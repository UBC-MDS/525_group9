import re
import os
import glob
import zipfile
import requests
from urllib.request import urlretrieve
import json
import pandas as pd
import seaborn as sns
sns.set(rc={'figure.figsize':(11.7,8.27),"font.size":20,"axes.titlesize":20,"axes.labelsize":20},style="white") 
import matplotlib.pyplot as plt


# Code adapted from Lecture 1 of DSCI525:
article_id = 14096681  
url = f"https://api.figshare.com/v2/articles/{article_id}"
headers = {"Content-Type": "application/json"}
output_directory = "figshareaustralia/"

response = requests.request("GET", url, headers=headers)
data = json.loads(response.text) 
files = data["files"]            
files


files_to_dl = ["data.zip"] 
for file in files:
    if file["name"] in files_to_dl:
        os.makedirs(output_directory, exist_ok=True)
        urlretrieve(file["download_url"], output_directory + file["name"])


get_ipython().run_cell_magic("time", "", """with zipfile.ZipFile(os.path.join(output_directory, "data.zip"), 'r') as f:
    f.extractall(output_directory)""")


get_ipython().run_line_magic("ls", " -ltr figshareaustralia/")


get_ipython().run_cell_magic("time", "", """files = glob.glob('figshareaustralia/*.csv')
files.remove('figshareaustralia\\observed_daily_rainfall_SYD.csv')

df = pd.concat((pd.read_csv(file, index_col=0)
                .assign(model=file.split('\\')[1].split('_daily')[0])
                for file in files)
              )
df.to_csv("figshareaustralia/combined_data.csv")""")





#### Python EDA plots





### EDA in R






