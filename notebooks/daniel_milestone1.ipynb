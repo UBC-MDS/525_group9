{
 "cells": [
  {
   "cell_type": "markdown",
   "id": "350aa352-75b4-4392-a182-9cf35a5c02a9",
   "metadata": {},
   "source": [
    "# Milestone 1"
   ]
  },
  {
   "cell_type": "code",
   "execution_count": 3,
   "id": "7690e835-2873-472d-9a00-bdb486465ee6",
   "metadata": {},
   "outputs": [
    {
     "data": {
      "text/plain": [
       "DataTransformerRegistry.enable('data_server')"
      ]
     },
     "execution_count": 3,
     "metadata": {},
     "output_type": "execute_result"
    }
   ],
   "source": [
    "import requests\n",
    "import json\n",
    "import os\n",
    "from urllib.request import urlretrieve\n",
    "import zipfile\n",
    "import pandas as pd\n",
    "import glob\n",
    "import re"
   ]
  },
  {
   "cell_type": "markdown",
   "id": "cba0a4dc-0b16-4090-986f-3967bbd836b7",
   "metadata": {},
   "source": [
    "## Downloading Data"
   ]
  },
  {
   "cell_type": "code",
   "execution_count": 29,
   "id": "989bb00e-eaa0-4e76-be8d-f8f81a86b85e",
   "metadata": {},
   "outputs": [],
   "source": [
    "# Necessary metadata\n",
    "article_id = 14096681\n",
    "url = f\"https://api.figshare.com/v2/articles/{article_id}\"\n",
    "headers = {\"Content-Type\": \"application/json\"}\n",
    "output_directory = \"../data/\""
   ]
  },
  {
   "cell_type": "code",
   "execution_count": 30,
   "id": "c084258a-3e49-4c50-9587-15946c74158e",
   "metadata": {},
   "outputs": [
    {
     "data": {
      "text/plain": [
       "[{'id': 26579150,\n",
       "  'name': 'daily_rainfall_2014.png',\n",
       "  'size': 58863,\n",
       "  'is_link_only': False,\n",
       "  'download_url': 'https://ndownloader.figshare.com/files/26579150',\n",
       "  'supplied_md5': 'fd32a2ffde300a31f8d63b1825d47e5e',\n",
       "  'computed_md5': 'fd32a2ffde300a31f8d63b1825d47e5e'},\n",
       " {'id': 26579171,\n",
       "  'name': 'environment.yml',\n",
       "  'size': 192,\n",
       "  'is_link_only': False,\n",
       "  'download_url': 'https://ndownloader.figshare.com/files/26579171',\n",
       "  'supplied_md5': '060b2020017eed93a1ee7dd8c65b2f34',\n",
       "  'computed_md5': '060b2020017eed93a1ee7dd8c65b2f34'},\n",
       " {'id': 26586554,\n",
       "  'name': 'README.md',\n",
       "  'size': 5422,\n",
       "  'is_link_only': False,\n",
       "  'download_url': 'https://ndownloader.figshare.com/files/26586554',\n",
       "  'supplied_md5': '61858c6cc0e6a6d6663a7e4c75bbd88c',\n",
       "  'computed_md5': '61858c6cc0e6a6d6663a7e4c75bbd88c'},\n",
       " {'id': 26766812,\n",
       "  'name': 'data.zip',\n",
       "  'size': 814041183,\n",
       "  'is_link_only': False,\n",
       "  'download_url': 'https://ndownloader.figshare.com/files/26766812',\n",
       "  'supplied_md5': 'b517383f76e77bd03755a63a8ff83ee9',\n",
       "  'computed_md5': 'b517383f76e77bd03755a63a8ff83ee9'},\n",
       " {'id': 26766815,\n",
       "  'name': 'get_data.py',\n",
       "  'size': 4113,\n",
       "  'is_link_only': False,\n",
       "  'download_url': 'https://ndownloader.figshare.com/files/26766815',\n",
       "  'supplied_md5': '7829028495fd9dec9680ea013474afa6',\n",
       "  'computed_md5': '7829028495fd9dec9680ea013474afa6'}]"
      ]
     },
     "execution_count": 30,
     "metadata": {},
     "output_type": "execute_result"
    }
   ],
   "source": [
    "response = requests.request(\"GET\", url, headers=headers)\n",
    "data = json.loads(response.text)\n",
    "files = data[\"files\"]\n",
    "files"
   ]
  },
  {
   "cell_type": "code",
   "execution_count": 4,
   "id": "2e625ce1-afa2-4dbf-8541-2bcd123cbce1",
   "metadata": {},
   "outputs": [
    {
     "data": {
      "text/plain": [
       "('../data/data.zip', <http.client.HTTPMessage at 0x7ff73001c760>)"
      ]
     },
     "execution_count": 4,
     "metadata": {},
     "output_type": "execute_result"
    }
   ],
   "source": [
    "file_to_dl = files[3]\n",
    "os.makedirs(output_directory, exist_ok=True)\n",
    "urlretrieve(file_to_dl[\"download_url\"], output_directory + file_to_dl[\"name\"])"
   ]
  },
  {
   "cell_type": "code",
   "execution_count": 5,
   "id": "fda2e337-06b1-421b-bcb4-47aa0c9ba3ff",
   "metadata": {},
   "outputs": [],
   "source": [
    "with zipfile.ZipFile(os.path.join(output_directory, \"data.zip\"), 'r') as f:\n",
    "    f.extractall(output_directory)"
   ]
  },
  {
   "cell_type": "markdown",
   "id": "a7b179ed-cfc8-4acd-a50c-92ebd15eec4f",
   "metadata": {},
   "source": [
    "## Combining Data CSVs"
   ]
  },
  {
   "cell_type": "code",
   "execution_count": 6,
   "id": "76b366fc-0751-4f14-9c79-c5298a95041f",
   "metadata": {},
   "outputs": [
    {
     "name": "stdout",
     "output_type": "stream",
     "text": [
      "CPU times: user 5min 42s, sys: 8.74 s, total: 5min 51s\n",
      "Wall time: 5min 53s\n"
     ]
    }
   ],
   "source": [
    "%%time\n",
    "use_cols = [\n",
    "    \"time\",\n",
    "    \"lat_min\",\n",
    "    \"lat_max\",\n",
    "    \"lon_min\",\n",
    "    \"lon_max\",\n",
    "    \"rain (mm/day)\"\n",
    "]\n",
    "files = glob.glob(\"../data/*.csv\")\n",
    "files.remove(\"../data/observed_daily_rainfall_SYD.csv\")\n",
    "df = pd.concat(\n",
    "    (\n",
    "        pd.read_csv(file, index_col=0, usecols=use_cols).assign(\n",
    "            model=re.findall(r\"../data/(.*)_daily\", file)[0]\n",
    "        )\n",
    "        for file in files\n",
    "    )\n",
    ")\n",
    "df.to_csv(\"../data/combined_data.csv\")"
   ]
  },
  {
   "cell_type": "markdown",
   "id": "13342060-30f5-4f10-a18c-25e90a6474c0",
   "metadata": {},
   "source": [
    "| Team Member | Operating System | RAM | Processor | Is SSD | Time taken |\n",
    "|:-----------:|:----------------:|:---:|:---------:|:------:|:----------:|\n",
    "| Daniel King |  macOS 12.0.1    |16 GB|Apple M1 2020|  Yes | 5min 53s   |\n",
    "| Member 2    |                  |     |           |        |            |\n",
    "| Member 3    |                  |     |           |        |            |\n",
    "| Member 4    |                  |     |           |        |            |"
   ]
  },
  {
   "cell_type": "markdown",
   "id": "ee0a1488-6a50-407e-bca1-4446170dc3ad",
   "metadata": {
    "tags": []
   },
   "source": [
    "##  Load the combined CSV to memory and perform a simple EDA"
   ]
  },
  {
   "cell_type": "code",
   "execution_count": 22,
   "id": "9ba600d2-a62a-4b20-a9ea-56e5d802aece",
   "metadata": {},
   "outputs": [],
   "source": [
    "df = pd.read_csv(\"../data/combined_data.csv\", parse_dates=True, index_col=0)"
   ]
  },
  {
   "cell_type": "code",
   "execution_count": 20,
   "id": "9445d3f6-f2bb-419e-a07a-3390c68e4855",
   "metadata": {},
   "outputs": [
    {
     "data": {
      "text/html": [
       "<div>\n",
       "<style scoped>\n",
       "    .dataframe tbody tr th:only-of-type {\n",
       "        vertical-align: middle;\n",
       "    }\n",
       "\n",
       "    .dataframe tbody tr th {\n",
       "        vertical-align: top;\n",
       "    }\n",
       "\n",
       "    .dataframe thead th {\n",
       "        text-align: right;\n",
       "    }\n",
       "</style>\n",
       "<table border=\"1\" class=\"dataframe\">\n",
       "  <thead>\n",
       "    <tr style=\"text-align: right;\">\n",
       "      <th></th>\n",
       "      <th>time</th>\n",
       "      <th>lat_min</th>\n",
       "      <th>lat_max</th>\n",
       "      <th>lon_min</th>\n",
       "      <th>lon_max</th>\n",
       "      <th>rain (mm/day)</th>\n",
       "      <th>model</th>\n",
       "    </tr>\n",
       "  </thead>\n",
       "  <tbody>\n",
       "    <tr>\n",
       "      <th>0</th>\n",
       "      <td>1889-01-01 12:00:00</td>\n",
       "      <td>-35.439867</td>\n",
       "      <td>-33.574619</td>\n",
       "      <td>141.5625</td>\n",
       "      <td>143.4375</td>\n",
       "      <td>4.244226e-13</td>\n",
       "      <td>MPI-ESM-1-2-HAM</td>\n",
       "    </tr>\n",
       "    <tr>\n",
       "      <th>1</th>\n",
       "      <td>1889-01-02 12:00:00</td>\n",
       "      <td>-35.439867</td>\n",
       "      <td>-33.574619</td>\n",
       "      <td>141.5625</td>\n",
       "      <td>143.4375</td>\n",
       "      <td>4.217326e-13</td>\n",
       "      <td>MPI-ESM-1-2-HAM</td>\n",
       "    </tr>\n",
       "    <tr>\n",
       "      <th>2</th>\n",
       "      <td>1889-01-03 12:00:00</td>\n",
       "      <td>-35.439867</td>\n",
       "      <td>-33.574619</td>\n",
       "      <td>141.5625</td>\n",
       "      <td>143.4375</td>\n",
       "      <td>4.498125e-13</td>\n",
       "      <td>MPI-ESM-1-2-HAM</td>\n",
       "    </tr>\n",
       "    <tr>\n",
       "      <th>3</th>\n",
       "      <td>1889-01-04 12:00:00</td>\n",
       "      <td>-35.439867</td>\n",
       "      <td>-33.574619</td>\n",
       "      <td>141.5625</td>\n",
       "      <td>143.4375</td>\n",
       "      <td>4.251282e-13</td>\n",
       "      <td>MPI-ESM-1-2-HAM</td>\n",
       "    </tr>\n",
       "    <tr>\n",
       "      <th>4</th>\n",
       "      <td>1889-01-05 12:00:00</td>\n",
       "      <td>-35.439867</td>\n",
       "      <td>-33.574619</td>\n",
       "      <td>141.5625</td>\n",
       "      <td>143.4375</td>\n",
       "      <td>4.270161e-13</td>\n",
       "      <td>MPI-ESM-1-2-HAM</td>\n",
       "    </tr>\n",
       "    <tr>\n",
       "      <th>...</th>\n",
       "      <td>...</td>\n",
       "      <td>...</td>\n",
       "      <td>...</td>\n",
       "      <td>...</td>\n",
       "      <td>...</td>\n",
       "      <td>...</td>\n",
       "      <td>...</td>\n",
       "    </tr>\n",
       "    <tr>\n",
       "      <th>62467838</th>\n",
       "      <td>2014-12-27 12:00:00</td>\n",
       "      <td>-30.157068</td>\n",
       "      <td>-29.214660</td>\n",
       "      <td>153.1250</td>\n",
       "      <td>154.3750</td>\n",
       "      <td>6.689683e+00</td>\n",
       "      <td>SAM0-UNICON</td>\n",
       "    </tr>\n",
       "    <tr>\n",
       "      <th>62467839</th>\n",
       "      <td>2014-12-28 12:00:00</td>\n",
       "      <td>-30.157068</td>\n",
       "      <td>-29.214660</td>\n",
       "      <td>153.1250</td>\n",
       "      <td>154.3750</td>\n",
       "      <td>7.862555e+00</td>\n",
       "      <td>SAM0-UNICON</td>\n",
       "    </tr>\n",
       "    <tr>\n",
       "      <th>62467840</th>\n",
       "      <td>2014-12-29 12:00:00</td>\n",
       "      <td>-30.157068</td>\n",
       "      <td>-29.214660</td>\n",
       "      <td>153.1250</td>\n",
       "      <td>154.3750</td>\n",
       "      <td>1.000503e+01</td>\n",
       "      <td>SAM0-UNICON</td>\n",
       "    </tr>\n",
       "    <tr>\n",
       "      <th>62467841</th>\n",
       "      <td>2014-12-30 12:00:00</td>\n",
       "      <td>-30.157068</td>\n",
       "      <td>-29.214660</td>\n",
       "      <td>153.1250</td>\n",
       "      <td>154.3750</td>\n",
       "      <td>8.541592e+00</td>\n",
       "      <td>SAM0-UNICON</td>\n",
       "    </tr>\n",
       "    <tr>\n",
       "      <th>62467842</th>\n",
       "      <td>2014-12-31 12:00:00</td>\n",
       "      <td>-30.157068</td>\n",
       "      <td>-29.214660</td>\n",
       "      <td>153.1250</td>\n",
       "      <td>154.3750</td>\n",
       "      <td>6.811749e+01</td>\n",
       "      <td>SAM0-UNICON</td>\n",
       "    </tr>\n",
       "  </tbody>\n",
       "</table>\n",
       "<p>62467843 rows × 7 columns</p>\n",
       "</div>"
      ],
      "text/plain": [
       "                         time    lat_min    lat_max   lon_min   lon_max  \\\n",
       "0         1889-01-01 12:00:00 -35.439867 -33.574619  141.5625  143.4375   \n",
       "1         1889-01-02 12:00:00 -35.439867 -33.574619  141.5625  143.4375   \n",
       "2         1889-01-03 12:00:00 -35.439867 -33.574619  141.5625  143.4375   \n",
       "3         1889-01-04 12:00:00 -35.439867 -33.574619  141.5625  143.4375   \n",
       "4         1889-01-05 12:00:00 -35.439867 -33.574619  141.5625  143.4375   \n",
       "...                       ...        ...        ...       ...       ...   \n",
       "62467838  2014-12-27 12:00:00 -30.157068 -29.214660  153.1250  154.3750   \n",
       "62467839  2014-12-28 12:00:00 -30.157068 -29.214660  153.1250  154.3750   \n",
       "62467840  2014-12-29 12:00:00 -30.157068 -29.214660  153.1250  154.3750   \n",
       "62467841  2014-12-30 12:00:00 -30.157068 -29.214660  153.1250  154.3750   \n",
       "62467842  2014-12-31 12:00:00 -30.157068 -29.214660  153.1250  154.3750   \n",
       "\n",
       "          rain (mm/day)            model  \n",
       "0          4.244226e-13  MPI-ESM-1-2-HAM  \n",
       "1          4.217326e-13  MPI-ESM-1-2-HAM  \n",
       "2          4.498125e-13  MPI-ESM-1-2-HAM  \n",
       "3          4.251282e-13  MPI-ESM-1-2-HAM  \n",
       "4          4.270161e-13  MPI-ESM-1-2-HAM  \n",
       "...                 ...              ...  \n",
       "62467838   6.689683e+00      SAM0-UNICON  \n",
       "62467839   7.862555e+00      SAM0-UNICON  \n",
       "62467840   1.000503e+01      SAM0-UNICON  \n",
       "62467841   8.541592e+00      SAM0-UNICON  \n",
       "62467842   6.811749e+01      SAM0-UNICON  \n",
       "\n",
       "[62467843 rows x 7 columns]"
      ]
     },
     "execution_count": 20,
     "metadata": {},
     "output_type": "execute_result"
    }
   ],
   "source": [
    "df"
   ]
  },
  {
   "cell_type": "markdown",
   "id": "bc03bf0e-1c83-490b-9221-2b5908d2cb4f",
   "metadata": {},
   "source": [
    "Using altair, I ran into the problem of altair not being able to handle to much data at once. So I set the altair data transformer to data server to fix this problem. After creating the plot again, nothing appeared except for two axes, and a \"tornado.general\" warning. Changing the dtype of the numeric variables from float64 to float32 or float16 did not help."
   ]
  },
  {
   "cell_type": "code",
   "execution_count": 34,
   "id": "b87099e6-17db-4176-b0dc-414525d660d5",
   "metadata": {},
   "outputs": [
    {
     "name": "stdout",
     "output_type": "stream",
     "text": [
      "<class 'pandas.core.frame.DataFrame'>\n",
      "DatetimeIndex: 62467843 entries, 1889-01-01 12:00:00 to 2014-12-31 12:00:00\n",
      "Data columns (total 6 columns):\n",
      " #   Column         Dtype  \n",
      "---  ------         -----  \n",
      " 0   lat_min        float64\n",
      " 1   lat_max        float64\n",
      " 2   lon_min        float64\n",
      " 3   lon_max        float64\n",
      " 4   rain (mm/day)  float64\n",
      " 5   model          object \n",
      "dtypes: float64(5), object(1)\n",
      "memory usage: 3.3+ GB\n",
      "None\n",
      "MPI-ESM1-2-HR       5154240\n",
      "CMCC-CM2-HR4        3541230\n",
      "CMCC-ESM2           3541230\n",
      "CMCC-CM2-SR5        3541230\n",
      "NorESM2-MM          3541230\n",
      "TaiESM1             3541230\n",
      "SAM0-UNICON         3541153\n",
      "GFDL-ESM4           3219300\n",
      "FGOALS-f3-L         3219300\n",
      "GFDL-CM4            3219300\n",
      "MRI-ESM2-0          3037320\n",
      "EC-Earth3-Veg-LR    3037320\n",
      "BCC-CSM2-MR         3035340\n",
      "MIROC6              2070900\n",
      "ACCESS-CM2          1932840\n",
      "ACCESS-ESM1-5       1610700\n",
      "INM-CM4-8           1609650\n",
      "INM-CM5-0           1609650\n",
      "FGOALS-g3           1287720\n",
      "KIOST-ESM           1287720\n",
      "AWI-ESM-1-1-LR       966420\n",
      "MPI-ESM1-2-LR        966420\n",
      "NESM3                966420\n",
      "MPI-ESM-1-2-HAM      966420\n",
      "NorESM2-LM           919800\n",
      "BCC-ESM1             551880\n",
      "CanESM5              551880\n",
      "Name: model, dtype: int64\n",
      "CPU times: user 5.03 s, sys: 1.25 s, total: 6.28 s\n",
      "Wall time: 6.57 s\n"
     ]
    },
    {
     "data": {
      "text/plain": [
       "count    5.924854e+07\n",
       "mean     1.901170e+00\n",
       "std      5.585735e+00\n",
       "min     -3.807373e-12\n",
       "25%      3.838413e-06\n",
       "50%      6.154947e-02\n",
       "75%      1.020918e+00\n",
       "max      4.329395e+02\n",
       "Name: rain (mm/day), dtype: float64"
      ]
     },
     "execution_count": 34,
     "metadata": {},
     "output_type": "execute_result"
    }
   ],
   "source": [
    "%%time\n",
    "print(df.info())\n",
    "print(df[\"model\"].value_counts())\n",
    "df[\"rain (mm/day)\"].describe()"
   ]
  },
  {
   "cell_type": "markdown",
   "id": "364ff78b-e156-48f0-9cd7-2fa143407ccd",
   "metadata": {},
   "source": [
    "The combined data takes around 3.3 GB of space. Running the `.info` method, obtaining the model `.values_counts`, and getting the summary statistics of the rainfall using the `.describe` method takes the following amount of time for each group member:\n",
    "\n",
    "| Team Member | Operating System | RAM | Processor | Is SSD | Time taken |\n",
    "|:-----------:|:----------------:|:---:|:---------:|:------:|:----------:|\n",
    "| Daniel King |  macOS 12.0.1    |16 GB|Apple M1 2020|  Yes | 6.57 s     |\n",
    "| Member 2    |                  |     |           |        |            |\n",
    "| Member 3    |                  |     |           |        |            |\n",
    "| Member 4    |                  |     |           |        |            |"
   ]
  },
  {
   "cell_type": "markdown",
   "id": "10dafa80-995f-47e9-8810-11efbbfbeab8",
   "metadata": {},
   "source": [
    "### Changing the dtype to float32"
   ]
  },
  {
   "cell_type": "markdown",
   "id": "91ab65fd-a8b5-41f7-86a2-3f9c0053d8a6",
   "metadata": {},
   "source": [
    "Here we reduce the data type of the numeric variables in the data set to `float32` to reduce the memory space that they take up. We tried using `float16`, which resulted in a much lower sys time than float64 but for some odd reason increased the user time."
   ]
  },
  {
   "cell_type": "code",
   "execution_count": 39,
   "id": "688ec233-0c50-49ab-ac7b-a034b26dddb0",
   "metadata": {},
   "outputs": [],
   "source": [
    "df_32 = df.astype(\n",
    "    {\n",
    "        \"lat_min\": \"float32\",\n",
    "        \"lat_max\": \"float32\",\n",
    "        \"lon_min\": \"float32\",\n",
    "        \"lon_max\": \"float32\",\n",
    "        \"rain (mm/day)\": \"float32\",\n",
    "    }\n",
    ")"
   ]
  },
  {
   "cell_type": "code",
   "execution_count": 41,
   "id": "901460a1-8bb2-4537-a6a7-d6e940eafdd5",
   "metadata": {},
   "outputs": [
    {
     "name": "stdout",
     "output_type": "stream",
     "text": [
      "<class 'pandas.core.frame.DataFrame'>\n",
      "DatetimeIndex: 62467843 entries, 1889-01-01 12:00:00 to 2014-12-31 12:00:00\n",
      "Data columns (total 6 columns):\n",
      " #   Column         Dtype  \n",
      "---  ------         -----  \n",
      " 0   lat_min        float32\n",
      " 1   lat_max        float32\n",
      " 2   lon_min        float32\n",
      " 3   lon_max        float32\n",
      " 4   rain (mm/day)  float32\n",
      " 5   model          object \n",
      "dtypes: float32(5), object(1)\n",
      "memory usage: 2.1+ GB\n",
      "None\n",
      "MPI-ESM1-2-HR       5154240\n",
      "CMCC-CM2-HR4        3541230\n",
      "CMCC-ESM2           3541230\n",
      "CMCC-CM2-SR5        3541230\n",
      "NorESM2-MM          3541230\n",
      "TaiESM1             3541230\n",
      "SAM0-UNICON         3541153\n",
      "GFDL-ESM4           3219300\n",
      "FGOALS-f3-L         3219300\n",
      "GFDL-CM4            3219300\n",
      "MRI-ESM2-0          3037320\n",
      "EC-Earth3-Veg-LR    3037320\n",
      "BCC-CSM2-MR         3035340\n",
      "MIROC6              2070900\n",
      "ACCESS-CM2          1932840\n",
      "ACCESS-ESM1-5       1610700\n",
      "INM-CM4-8           1609650\n",
      "INM-CM5-0           1609650\n",
      "FGOALS-g3           1287720\n",
      "KIOST-ESM           1287720\n",
      "AWI-ESM-1-1-LR       966420\n",
      "MPI-ESM1-2-LR        966420\n",
      "NESM3                966420\n",
      "MPI-ESM-1-2-HAM      966420\n",
      "NorESM2-LM           919800\n",
      "BCC-ESM1             551880\n",
      "CanESM5              551880\n",
      "Name: model, dtype: int64\n",
      "CPU times: user 4.71 s, sys: 587 ms, total: 5.29 s\n",
      "Wall time: 5.29 s\n"
     ]
    },
    {
     "data": {
      "text/plain": [
       "count    5.924854e+07\n",
       "mean     1.901173e+00\n",
       "std      5.585735e+00\n",
       "min     -3.807373e-12\n",
       "25%      3.838413e-06\n",
       "50%      6.154947e-02\n",
       "75%      1.020918e+00\n",
       "max      4.329395e+02\n",
       "Name: rain (mm/day), dtype: float64"
      ]
     },
     "execution_count": 41,
     "metadata": {},
     "output_type": "execute_result"
    }
   ],
   "source": [
    "%%time\n",
    "print(df_32.info())\n",
    "print(df_32[\"model\"].value_counts())\n",
    "df_32[\"rain (mm/day)\"].describe()"
   ]
  },
  {
   "cell_type": "markdown",
   "id": "97e01d66-90cc-4029-9cc4-60333310cc39",
   "metadata": {},
   "source": [
    "After converting all of the numeric data types to `float16`, the combined data takes around 1.5 GB of space. Running the `.info` method, obtaining the model `.value_counts`, and getting the summary statistics of the rainfall using the `.describe` method takes the following amount of time for each group member:\n",
    "\n",
    "| Team Member | Operating System | RAM | Processor | Is SSD | Time taken |\n",
    "|:-----------:|:----------------:|:---:|:---------:|:------:|:----------:|\n",
    "| Daniel King |  macOS 12.0.1    |16 GB|Apple M1 2020|  Yes | 5.29 s     |\n",
    "| Member 2    |                  |     |           |        |            |\n",
    "| Member 3    |                  |     |           |        |            |\n",
    "| Member 4    |                  |     |           |        |            |"
   ]
  },
  {
   "cell_type": "markdown",
   "id": "ae217987-0ba6-4deb-a18c-88161fabe21f",
   "metadata": {},
   "source": [
    "### Only loading necessary columns"
   ]
  },
  {
   "cell_type": "markdown",
   "id": "ba0c4e6c-55a9-410c-8abd-11ac45f5d55d",
   "metadata": {},
   "source": [
    "Here we reduce the space the data set takes up in memory by only loading the model, time, and rainfall variables."
   ]
  },
  {
   "cell_type": "code",
   "execution_count": 42,
   "id": "5829dd2a-1aca-4513-968e-5c330300aad0",
   "metadata": {},
   "outputs": [],
   "source": [
    "df_red = pd.read_csv(\n",
    "    \"../data/combined_data.csv\",\n",
    "    parse_dates=True,\n",
    "    usecols=[\"time\", \"rain (mm/day)\", \"model\"],\n",
    "    index_col=0\n",
    ")"
   ]
  },
  {
   "cell_type": "code",
   "execution_count": 43,
   "id": "1d13106d-1243-4681-9704-1468c04b8104",
   "metadata": {},
   "outputs": [
    {
     "name": "stdout",
     "output_type": "stream",
     "text": [
      "<class 'pandas.core.frame.DataFrame'>\n",
      "DatetimeIndex: 62467843 entries, 1889-01-01 12:00:00 to 2014-12-31 12:00:00\n",
      "Data columns (total 2 columns):\n",
      " #   Column         Dtype  \n",
      "---  ------         -----  \n",
      " 0   rain (mm/day)  float64\n",
      " 1   model          object \n",
      "dtypes: float64(1), object(1)\n",
      "memory usage: 1.4+ GB\n",
      "None\n",
      "MPI-ESM1-2-HR       5154240\n",
      "CMCC-CM2-HR4        3541230\n",
      "CMCC-ESM2           3541230\n",
      "CMCC-CM2-SR5        3541230\n",
      "NorESM2-MM          3541230\n",
      "TaiESM1             3541230\n",
      "SAM0-UNICON         3541153\n",
      "GFDL-ESM4           3219300\n",
      "FGOALS-f3-L         3219300\n",
      "GFDL-CM4            3219300\n",
      "MRI-ESM2-0          3037320\n",
      "EC-Earth3-Veg-LR    3037320\n",
      "BCC-CSM2-MR         3035340\n",
      "MIROC6              2070900\n",
      "ACCESS-CM2          1932840\n",
      "ACCESS-ESM1-5       1610700\n",
      "INM-CM4-8           1609650\n",
      "INM-CM5-0           1609650\n",
      "FGOALS-g3           1287720\n",
      "KIOST-ESM           1287720\n",
      "AWI-ESM-1-1-LR       966420\n",
      "MPI-ESM1-2-LR        966420\n",
      "NESM3                966420\n",
      "MPI-ESM-1-2-HAM      966420\n",
      "NorESM2-LM           919800\n",
      "BCC-ESM1             551880\n",
      "CanESM5              551880\n",
      "Name: model, dtype: int64\n",
      "CPU times: user 5.18 s, sys: 1.17 s, total: 6.34 s\n",
      "Wall time: 6.34 s\n"
     ]
    },
    {
     "data": {
      "text/plain": [
       "count    5.924854e+07\n",
       "mean     1.901170e+00\n",
       "std      5.585735e+00\n",
       "min     -3.807373e-12\n",
       "25%      3.838413e-06\n",
       "50%      6.154947e-02\n",
       "75%      1.020918e+00\n",
       "max      4.329395e+02\n",
       "Name: rain (mm/day), dtype: float64"
      ]
     },
     "execution_count": 43,
     "metadata": {},
     "output_type": "execute_result"
    }
   ],
   "source": [
    "%%time\n",
    "print(df_red.info())\n",
    "print(df_red[\"model\"].value_counts())\n",
    "df_red[\"rain (mm/day)\"].describe()"
   ]
  },
  {
   "cell_type": "markdown",
   "id": "3e8e53d8-8e2d-4ff9-8834-1997a3ba167f",
   "metadata": {},
   "source": [
    "The memory the data set took up after only loading in the time, rainfall, and model variables was around 1.4 GB. The wall time actually increased slightly in comparison to the `float32` dataframe  even though the memory used is smaller. This is likely the case because running the describe method on the rainfall column likely negates the memory savings obtained from reducing the columns loaded in."
   ]
  },
  {
   "cell_type": "markdown",
   "id": "92df3f36-caf9-4070-9def-9223eb7051cd",
   "metadata": {},
   "source": [
    "## Performing a Simple EDA in R"
   ]
  },
  {
   "cell_type": "markdown",
   "id": "2b83a4da-d16b-4999-ae03-89246c48f2ea",
   "metadata": {},
   "source": [
    "The parquet and feather methods serialize from python to an intermediate file first which is then deserialized into R. However, the pandas and arrow exchange methods do the serialization and deserialization from python to R while skipping the intermediate file, saving computation time. Because we are transferring data from python to R within the same notebook it does not seem necessary to get the benefits of storing data to disk that comes with the parquet and feather methods. Arrow exchange was chosen over pandas exchange because the arrow in-memory files are a unified cross-platform format which means the serialization/deserialization process is much faster than if we used pandas exchange as pandas and R store the in-memory files in different formats. Arrow is also integrated into dplyr and offers many memory-optimized computation methods, which means the arrow format which was transferred over to R will perform much faster computations."
   ]
  },
  {
   "cell_type": "code",
   "execution_count": 16,
   "id": "97b2ab5b-5db9-47fb-95d6-ef34bbe73303",
   "metadata": {},
   "outputs": [],
   "source": [
    "%reset -f\n",
    "\n",
    "%load_ext rpy2.ipython\n",
    "\n",
    "import pyarrow.dataset as ds\n",
    "import pyarrow as pa\n",
    "import pandas as pd\n",
    "from pyarrow import csv\n",
    "import rpy2_arrow.pyarrow_rarrow as pyra\n",
    "\n",
    "pydata = ds.dataset(\"../data/combined_data.csv\", format=\"csv\")\n",
    "pytable = pydata.to_table()\n",
    "rtable = pyra.converter.py2rpy(pytable)\n",
    "\n",
    "%%R -i rtable\n",
    "suppressMessages(library(dplyr))\n",
    "suppressMessages(library(arrow))\n",
    "rdata <- rtable\n",
    "\n",
    "%%R\n",
    "\n",
    "rtable <- rtable |>\n",
    "    rename(rain = \"rain (mm/day)\")\n",
    "    \n",
    "rtable |> collect()"
   ]
  },
  {
   "cell_type": "markdown",
   "id": "2e88ef72-ddfe-4a63-b046-782de1287576",
   "metadata": {},
   "source": [
    "**The variable information is as follows:**"
   ]
  },
  {
   "cell_type": "code",
   "execution_count": 11,
   "id": "9cdfb7f6-1fbf-47d3-b844-2d57d512c047",
   "metadata": {},
   "outputs": [
    {
     "name": "stdout",
     "output_type": "stream",
     "text": [
      "tibble [62,467,843 × 7] (S3: tbl_df/tbl/data.frame)\n",
      " $ time         : POSIXct[1:62467843], format: \"1889-01-01 04:00:00\" \"1889-01-02 04:00:00\" ...\n",
      " $ lat_min      : num [1:62467843] -35.4 -35.4 -35.4 -35.4 -35.4 ...\n",
      " $ lat_max      : num [1:62467843] -33.6 -33.6 -33.6 -33.6 -33.6 ...\n",
      " $ lon_min      : num [1:62467843] 142 142 142 142 142 ...\n",
      " $ lon_max      : num [1:62467843] 143 143 143 143 143 ...\n",
      " $ rain (mm/day): num [1:62467843] 4.24e-13 4.22e-13 4.50e-13 4.25e-13 4.27e-13 ...\n",
      " $ model        : chr [1:62467843] \"MPI-ESM-1-2-HAM\" \"MPI-ESM-1-2-HAM\" \"MPI-ESM-1-2-HAM\" \"MPI-ESM-1-2-HAM\" ...\n"
     ]
    }
   ],
   "source": [
    "%%R\n",
    "\n",
    "rtable |>  \n",
    "    collect() |> \n",
    "    str()"
   ]
  },
  {
   "cell_type": "markdown",
   "id": "b591e566-9f9f-4bea-a9ba-bb1c9333a0ad",
   "metadata": {},
   "source": [
    "**Below we return the value counts for each model:**"
   ]
  },
  {
   "cell_type": "code",
   "execution_count": 12,
   "id": "ed0f68a6-69a3-423c-8e5f-7d283a1210c1",
   "metadata": {},
   "outputs": [
    {
     "name": "stdout",
     "output_type": "stream",
     "text": [
      "# A tibble: 27 × 2\n",
      "   model                  n\n",
      "   <chr>              <int>\n",
      " 1 MPI-ESM-1-2-HAM   966420\n",
      " 2 AWI-ESM-1-1-LR    966420\n",
      " 3 NorESM2-LM        919800\n",
      " 4 ACCESS-CM2       1932840\n",
      " 5 FGOALS-f3-L      3219300\n",
      " 6 CMCC-CM2-HR4     3541230\n",
      " 7 MRI-ESM2-0       3037320\n",
      " 8 GFDL-CM4         3219300\n",
      " 9 BCC-CSM2-MR      3035340\n",
      "10 EC-Earth3-Veg-LR 3037320\n",
      "11 CMCC-ESM2        3541230\n",
      "12 NESM3             966420\n",
      "13 MPI-ESM1-2-LR     966420\n",
      "14 ACCESS-ESM1-5    1610700\n",
      "15 FGOALS-g3        1287720\n",
      "16 INM-CM4-8        1609650\n",
      "17 MPI-ESM1-2-HR    5154240\n",
      "18 TaiESM1          3541230\n",
      "19 NorESM2-MM       3541230\n",
      "20 CMCC-CM2-SR5     3541230\n",
      "21 KIOST-ESM        1287720\n",
      "22 INM-CM5-0        1609650\n",
      "23 MIROC6           2070900\n",
      "24 BCC-ESM1          551880\n",
      "25 GFDL-ESM4        3219300\n",
      "26 CanESM5           551880\n",
      "27 SAM0-UNICON      3541153\n"
     ]
    }
   ],
   "source": [
    "%%R\n",
    "\n",
    "rtable |> \n",
    "    count(model) |> \n",
    "    collect() |> \n",
    "    print(n=27)"
   ]
  },
  {
   "cell_type": "markdown",
   "id": "d3dad04d-d741-4a25-b083-3dd0ba2633e2",
   "metadata": {},
   "source": [
    "**Here we obtain some summary statistics for rainfall (mm/day):**"
   ]
  },
  {
   "cell_type": "code",
   "execution_count": 20,
   "id": "4b798616-f245-4c3f-ba59-68101f2abf9b",
   "metadata": {},
   "outputs": [
    {
     "name": "stdout",
     "output_type": "stream",
     "text": [
      "# A tibble: 1 × 7\n",
      "     count  mean median       min first.quartile third.quartile   max\n",
      "     <int> <dbl>  <dbl>     <dbl>          <dbl>          <dbl> <dbl>\n",
      "1 59248543   1.9   0.06 -3.81e-12              0           1.05  433.\n"
     ]
    }
   ],
   "source": [
    "%%R\n",
    "\n",
    "rtable_rain_min <- rtable |>\n",
    "    select(rain) |> \n",
    "    collect() |>\n",
    "    min(na.rm = TRUE)\n",
    "\n",
    "rtable_rain_max <- rtable |>\n",
    "    select(rain) |> \n",
    "    collect() |>\n",
    "    max(na.rm = TRUE)\n",
    "\n",
    "rtable |>\n",
    "    select(rain) |> \n",
    "    filter(!is.na(rain)) |> \n",
    "    summarize(\n",
    "        count = n(),\n",
    "        mean = round(mean(rain), 2),\n",
    "        median = round(median(rain), 2),\n",
    "        min = rtable_rain_min,\n",
    "        first.quartile = round(quantile(rain, c(0.25)), 2),\n",
    "        third.quartile = round(quantile(rain, c(0.75)), 2),\n",
    "        max = rtable_rain_max\n",
    "    ) |> \n",
    "    collect()"
   ]
  }
 ],
 "metadata": {
  "kernelspec": {
   "display_name": "Python [conda env:525_2022]",
   "language": "python",
   "name": "conda-env-525_2022-py"
  },
  "language_info": {
   "codemirror_mode": {
    "name": "ipython",
    "version": 3
   },
   "file_extension": ".py",
   "mimetype": "text/x-python",
   "name": "python",
   "nbconvert_exporter": "python",
   "pygments_lexer": "ipython3",
   "version": "3.8.6"
  }
 },
 "nbformat": 4,
 "nbformat_minor": 5
}
