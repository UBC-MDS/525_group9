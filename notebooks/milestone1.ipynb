{
 "cells": [
  {
   "cell_type": "markdown",
   "id": "6bcb264f-5fe2-4e9f-b69e-7848f27c4bf8",
   "metadata": {},
   "source": [
    "## Downloading data"
   ]
  },
  {
   "cell_type": "code",
   "execution_count": 48,
   "id": "cb1389e4-c102-4662-a6f2-c86e95e68878",
   "metadata": {},
   "outputs": [],
   "source": [
    "import re\n",
    "import os\n",
    "import glob\n",
    "import zipfile\n",
    "import requests\n",
    "from urllib.request import urlretrieve\n",
    "import json\n",
    "import pandas as pd\n",
    "import matplotlib.pyplot as plt"
   ]
  },
  {
   "cell_type": "code",
   "execution_count": 8,
   "id": "f0ee97b2-93d0-41f9-bdf9-5fb316c9973d",
   "metadata": {},
   "outputs": [
    {
     "data": {
      "text/plain": [
       "[{'id': 26579150,\n",
       "  'name': 'daily_rainfall_2014.png',\n",
       "  'size': 58863,\n",
       "  'is_link_only': False,\n",
       "  'download_url': 'https://ndownloader.figshare.com/files/26579150',\n",
       "  'supplied_md5': 'fd32a2ffde300a31f8d63b1825d47e5e',\n",
       "  'computed_md5': 'fd32a2ffde300a31f8d63b1825d47e5e'},\n",
       " {'id': 26579171,\n",
       "  'name': 'environment.yml',\n",
       "  'size': 192,\n",
       "  'is_link_only': False,\n",
       "  'download_url': 'https://ndownloader.figshare.com/files/26579171',\n",
       "  'supplied_md5': '060b2020017eed93a1ee7dd8c65b2f34',\n",
       "  'computed_md5': '060b2020017eed93a1ee7dd8c65b2f34'},\n",
       " {'id': 26586554,\n",
       "  'name': 'README.md',\n",
       "  'size': 5422,\n",
       "  'is_link_only': False,\n",
       "  'download_url': 'https://ndownloader.figshare.com/files/26586554',\n",
       "  'supplied_md5': '61858c6cc0e6a6d6663a7e4c75bbd88c',\n",
       "  'computed_md5': '61858c6cc0e6a6d6663a7e4c75bbd88c'},\n",
       " {'id': 26766812,\n",
       "  'name': 'data.zip',\n",
       "  'size': 814041183,\n",
       "  'is_link_only': False,\n",
       "  'download_url': 'https://ndownloader.figshare.com/files/26766812',\n",
       "  'supplied_md5': 'b517383f76e77bd03755a63a8ff83ee9',\n",
       "  'computed_md5': 'b517383f76e77bd03755a63a8ff83ee9'},\n",
       " {'id': 26766815,\n",
       "  'name': 'get_data.py',\n",
       "  'size': 4113,\n",
       "  'is_link_only': False,\n",
       "  'download_url': 'https://ndownloader.figshare.com/files/26766815',\n",
       "  'supplied_md5': '7829028495fd9dec9680ea013474afa6',\n",
       "  'computed_md5': '7829028495fd9dec9680ea013474afa6'}]"
      ]
     },
     "execution_count": 8,
     "metadata": {},
     "output_type": "execute_result"
    }
   ],
   "source": [
    "url = \"https://api.figshare.com/v2/articles/14096681\"\n",
    "output_directory = \"figsharerainfall/\"\n",
    "\n",
    "response = requests.request(\"GET\", url)\n",
    "data = json.loads(response.text)\n",
    "files = data[\"files\"]\n",
    "files"
   ]
  },
  {
   "cell_type": "code",
   "execution_count": 9,
   "id": "3119a42d-f6f8-408d-ba91-a7bcd18ffb9c",
   "metadata": {},
   "outputs": [
    {
     "name": "stdout",
     "output_type": "stream",
     "text": [
      "CPU times: user 5.7 s, sys: 3.8 s, total: 9.5 s\n",
      "Wall time: 4min 13s\n"
     ]
    }
   ],
   "source": [
    "%%time\n",
    "files_to_dl = [\"data.zip\"]\n",
    "for file in files:\n",
    "    if file[\"name\"] in files_to_dl:\n",
    "        os.makedirs(output_directory, exist_ok=True)\n",
    "        urlretrieve(file[\"download_url\"], output_directory + file[\"name\"])"
   ]
  },
  {
   "cell_type": "code",
   "execution_count": 10,
   "id": "355b8263-a274-4cac-bda8-0e89590c6d3b",
   "metadata": {},
   "outputs": [
    {
     "name": "stdout",
     "output_type": "stream",
     "text": [
      "CPU times: user 14.5 s, sys: 1.15 s, total: 15.7 s\n",
      "Wall time: 16.5 s\n"
     ]
    }
   ],
   "source": [
    "%%time\n",
    "with zipfile.ZipFile(os.path.join(output_directory, \"data.zip\"), 'r') as f:\n",
    "    f.extractall(output_directory)"
   ]
  },
  {
   "cell_type": "code",
   "execution_count": 12,
   "id": "5950f5e2-a993-40fd-8878-879b98397984",
   "metadata": {},
   "outputs": [
    {
     "name": "stdout",
     "output_type": "stream",
     "text": [
      "total 12102840\n",
      "-rw-r--r--   1 sukhleen  staff  814041183 28 Mar 15:15 data.zip\n",
      "-rw-r--r--   1 sukhleen  staff   95376895 28 Mar 15:15 MPI-ESM-1-2-HAM_daily_rainfall_NSW.csv\n",
      "-rw-r--r--   1 sukhleen  staff   94960113 28 Mar 15:15 AWI-ESM-1-1-LR_daily_rainfall_NSW.csv\n",
      "-rw-r--r--   1 sukhleen  staff   82474546 28 Mar 15:15 NorESM2-LM_daily_rainfall_NSW.csv\n",
      "-rw-r--r--   1 sukhleen  staff  127613760 28 Mar 15:15 ACCESS-CM2_daily_rainfall_NSW.csv\n",
      "-rw-r--r--   1 sukhleen  staff  232118894 28 Mar 15:15 FGOALS-f3-L_daily_rainfall_NSW.csv\n",
      "-rw-r--r--   1 sukhleen  staff  330360682 28 Mar 15:15 CMCC-CM2-HR4_daily_rainfall_NSW.csv\n",
      "-rw-r--r--   1 sukhleen  staff  254009247 28 Mar 15:15 MRI-ESM2-0_daily_rainfall_NSW.csv\n",
      "-rw-r--r--   1 sukhleen  staff  235661418 28 Mar 15:15 GFDL-CM4_daily_rainfall_NSW.csv\n",
      "-rw-r--r--   1 sukhleen  staff  294260911 28 Mar 15:15 BCC-CSM2-MR_daily_rainfall_NSW.csv\n",
      "-rw-r--r--   1 sukhleen  staff  295768615 28 Mar 15:15 EC-Earth3-Veg-LR_daily_rainfall_NSW.csv\n",
      "-rw-r--r--   1 sukhleen  staff  328852379 28 Mar 15:15 CMCC-ESM2_daily_rainfall_NSW.csv\n",
      "-rw-r--r--   1 sukhleen  staff   67784105 28 Mar 15:15 NESM3_daily_rainfall_NSW.csv\n",
      "-rw-r--r--   1 sukhleen  staff   95640682 28 Mar 15:15 MPI-ESM1-2-LR_daily_rainfall_NSW.csv\n",
      "-rw-r--r--   1 sukhleen  staff  114707410 28 Mar 15:15 ACCESS-ESM1-5_daily_rainfall_NSW.csv\n",
      "-rw-r--r--   1 sukhleen  staff  116179272 28 Mar 15:15 FGOALS-g3_daily_rainfall_NSW.csv\n",
      "-rw-r--r--   1 sukhleen  staff  102517965 28 Mar 15:15 INM-CM4-8_daily_rainfall_NSW.csv\n",
      "-rw-r--r--   1 sukhleen  staff  515458033 28 Mar 15:15 MPI-ESM1-2-HR_daily_rainfall_NSW.csv\n",
      "-rw-r--r--   1 sukhleen  staff  332813281 28 Mar 15:15 TaiESM1_daily_rainfall_NSW.csv\n",
      "-rw-r--r--   1 sukhleen  staff  337555851 28 Mar 15:15 NorESM2-MM_daily_rainfall_NSW.csv\n",
      "-rw-r--r--   1 sukhleen  staff  328787320 28 Mar 15:15 CMCC-CM2-SR5_daily_rainfall_NSW.csv\n",
      "-rw-r--r--   1 sukhleen  staff     952202 28 Mar 15:15 observed_daily_rainfall_SYD.csv\n",
      "-rw-r--r--   1 sukhleen  staff   93829697 28 Mar 15:15 KIOST-ESM_daily_rainfall_NSW.csv\n",
      "-rw-r--r--   1 sukhleen  staff  102692289 28 Mar 15:15 INM-CM5-0_daily_rainfall_NSW.csv\n",
      "-rw-r--r--   1 sukhleen  staff  206822938 28 Mar 15:15 MIROC6_daily_rainfall_NSW.csv\n",
      "-rw-r--r--   1 sukhleen  staff   55224437 28 Mar 15:15 BCC-ESM1_daily_rainfall_NSW.csv\n",
      "-rw-r--r--   1 sukhleen  staff  124586961 28 Mar 15:15 GFDL-ESM4_daily_rainfall_NSW.csv\n",
      "-rw-r--r--   1 sukhleen  staff   46286371 28 Mar 15:15 CanESM5_daily_rainfall_NSW.csv\n",
      "-rw-r--r--   1 sukhleen  staff  333489879 28 Mar 15:15 SAM0-UNICON_daily_rainfall_NSW.csv\n",
      "drwxr-xr-x  30 sukhleen  staff        960 28 Mar 15:15 \u001b[1m\u001b[34m__MACOSX\u001b[m\u001b[m/\n"
     ]
    }
   ],
   "source": [
    "%ls -ltr figsharerainfall/"
   ]
  },
  {
   "cell_type": "markdown",
   "id": "19d1ee35-d619-47cc-9aba-8b2b7bd03e75",
   "metadata": {},
   "source": [
    "## Combining CSVs"
   ]
  },
  {
   "cell_type": "code",
   "execution_count": 40,
   "id": "7a242c54-98d2-4c43-a3c1-3ad673e6f380",
   "metadata": {},
   "outputs": [
    {
     "name": "stdout",
     "output_type": "stream",
     "text": [
      "CPU times: user 12min 1s, sys: 23.9 s, total: 12min 25s\n",
      "Wall time: 12min 39s\n"
     ]
    }
   ],
   "source": [
    "%%time\n",
    "use_cols = [\"time\", \"lat_min\", \"lat_max\", \"lon_min\", \"lon_max\", \"rain (mm/day)\"]\n",
    "files = glob.glob('figsharerainfall/*.csv')\n",
    "df = pd.concat((pd.read_csv(file, index_col=0, usecols=use_cols)\n",
    "                .assign(model=re.findall(r'[^\\/]+(?=\\.)', file)[0].split(\"_daily\")[0])\n",
    "                for file in files)\n",
    "              )\n",
    "df.to_csv(\"figsharerainfall/combined_data.csv\")"
   ]
  },
  {
   "cell_type": "code",
   "execution_count": 41,
   "id": "f7b202c9-963e-44b1-a13a-adc6850c562b",
   "metadata": {},
   "outputs": [
    {
     "name": "stdout",
     "output_type": "stream",
     "text": [
      " 11G\tfigsharerainfall/combined_data.csv\n"
     ]
    }
   ],
   "source": [
    "%%sh\n",
    "du -sh figsharerainfall/combined_data.csv"
   ]
  },
  {
   "cell_type": "code",
   "execution_count": 54,
   "id": "e909c0a9-62a3-464f-a64d-028fd6fd4268",
   "metadata": {},
   "outputs": [
    {
     "data": {
      "text/plain": [
       "(124935686, 6)"
      ]
     },
     "execution_count": 54,
     "metadata": {},
     "output_type": "execute_result"
    }
   ],
   "source": [
    "df.shape"
   ]
  },
  {
   "cell_type": "code",
   "execution_count": 55,
   "id": "f389a638-d199-4c73-85f0-a3ccc8be29f8",
   "metadata": {},
   "outputs": [
    {
     "data": {
      "text/html": [
       "<div>\n",
       "<style scoped>\n",
       "    .dataframe tbody tr th:only-of-type {\n",
       "        vertical-align: middle;\n",
       "    }\n",
       "\n",
       "    .dataframe tbody tr th {\n",
       "        vertical-align: top;\n",
       "    }\n",
       "\n",
       "    .dataframe thead th {\n",
       "        text-align: right;\n",
       "    }\n",
       "</style>\n",
       "<table border=\"1\" class=\"dataframe\">\n",
       "  <thead>\n",
       "    <tr style=\"text-align: right;\">\n",
       "      <th></th>\n",
       "      <th>lat_min</th>\n",
       "      <th>lat_max</th>\n",
       "      <th>lon_min</th>\n",
       "      <th>lon_max</th>\n",
       "      <th>rain (mm/day)</th>\n",
       "      <th>model</th>\n",
       "    </tr>\n",
       "    <tr>\n",
       "      <th>time</th>\n",
       "      <th></th>\n",
       "      <th></th>\n",
       "      <th></th>\n",
       "      <th></th>\n",
       "      <th></th>\n",
       "      <th></th>\n",
       "    </tr>\n",
       "  </thead>\n",
       "  <tbody>\n",
       "    <tr>\n",
       "      <th>1889-01-01 12:00:00</th>\n",
       "      <td>-35.439867</td>\n",
       "      <td>-33.574619</td>\n",
       "      <td>141.5625</td>\n",
       "      <td>143.4375</td>\n",
       "      <td>4.244226e-13</td>\n",
       "      <td>MPI-ESM-1-2-HAM</td>\n",
       "    </tr>\n",
       "    <tr>\n",
       "      <th>1889-01-02 12:00:00</th>\n",
       "      <td>-35.439867</td>\n",
       "      <td>-33.574619</td>\n",
       "      <td>141.5625</td>\n",
       "      <td>143.4375</td>\n",
       "      <td>4.217326e-13</td>\n",
       "      <td>MPI-ESM-1-2-HAM</td>\n",
       "    </tr>\n",
       "    <tr>\n",
       "      <th>1889-01-03 12:00:00</th>\n",
       "      <td>-35.439867</td>\n",
       "      <td>-33.574619</td>\n",
       "      <td>141.5625</td>\n",
       "      <td>143.4375</td>\n",
       "      <td>4.498125e-13</td>\n",
       "      <td>MPI-ESM-1-2-HAM</td>\n",
       "    </tr>\n",
       "    <tr>\n",
       "      <th>1889-01-04 12:00:00</th>\n",
       "      <td>-35.439867</td>\n",
       "      <td>-33.574619</td>\n",
       "      <td>141.5625</td>\n",
       "      <td>143.4375</td>\n",
       "      <td>4.251282e-13</td>\n",
       "      <td>MPI-ESM-1-2-HAM</td>\n",
       "    </tr>\n",
       "    <tr>\n",
       "      <th>1889-01-05 12:00:00</th>\n",
       "      <td>-35.439867</td>\n",
       "      <td>-33.574619</td>\n",
       "      <td>141.5625</td>\n",
       "      <td>143.4375</td>\n",
       "      <td>4.270161e-13</td>\n",
       "      <td>MPI-ESM-1-2-HAM</td>\n",
       "    </tr>\n",
       "  </tbody>\n",
       "</table>\n",
       "</div>"
      ],
      "text/plain": [
       "                       lat_min    lat_max   lon_min   lon_max  rain (mm/day)  \\\n",
       "time                                                                           \n",
       "1889-01-01 12:00:00 -35.439867 -33.574619  141.5625  143.4375   4.244226e-13   \n",
       "1889-01-02 12:00:00 -35.439867 -33.574619  141.5625  143.4375   4.217326e-13   \n",
       "1889-01-03 12:00:00 -35.439867 -33.574619  141.5625  143.4375   4.498125e-13   \n",
       "1889-01-04 12:00:00 -35.439867 -33.574619  141.5625  143.4375   4.251282e-13   \n",
       "1889-01-05 12:00:00 -35.439867 -33.574619  141.5625  143.4375   4.270161e-13   \n",
       "\n",
       "                               model  \n",
       "time                                  \n",
       "1889-01-01 12:00:00  MPI-ESM-1-2-HAM  \n",
       "1889-01-02 12:00:00  MPI-ESM-1-2-HAM  \n",
       "1889-01-03 12:00:00  MPI-ESM-1-2-HAM  \n",
       "1889-01-04 12:00:00  MPI-ESM-1-2-HAM  \n",
       "1889-01-05 12:00:00  MPI-ESM-1-2-HAM  "
      ]
     },
     "execution_count": 55,
     "metadata": {},
     "output_type": "execute_result"
    }
   ],
   "source": [
    "df.head()"
   ]
  },
  {
   "cell_type": "markdown",
   "id": "864e7aeb-d19c-4c3d-8ea0-32f168d0b454",
   "metadata": {},
   "source": [
    "## EDA in Python"
   ]
  },
  {
   "cell_type": "code",
   "execution_count": 56,
   "id": "e3ec1a4d-be53-4a48-a6aa-17951b0c5b69",
   "metadata": {},
   "outputs": [
    {
     "data": {
      "text/plain": [
       "lat_min          float64\n",
       "lat_max          float64\n",
       "lon_min          float64\n",
       "lon_max          float64\n",
       "rain (mm/day)    float64\n",
       "model             object\n",
       "dtype: object"
      ]
     },
     "execution_count": 56,
     "metadata": {},
     "output_type": "execute_result"
    }
   ],
   "source": [
    "df.dtypes"
   ]
  },
  {
   "cell_type": "code",
   "execution_count": 57,
   "id": "6bb6570d-cb73-42bf-87b4-09f9d8bcad47",
   "metadata": {},
   "outputs": [
    {
     "name": "stdout",
     "output_type": "stream",
     "text": [
      "<class 'pandas.core.frame.DataFrame'>\n",
      "Index: 124935686 entries, 1889-01-01 12:00:00 to 2014-12-31 12:00:00\n",
      "Data columns (total 6 columns):\n",
      " #   Column         Dtype  \n",
      "---  ------         -----  \n",
      " 0   lat_min        float64\n",
      " 1   lat_max        float64\n",
      " 2   lon_min        float64\n",
      " 3   lon_max        float64\n",
      " 4   rain (mm/day)  float64\n",
      " 5   model          object \n",
      "dtypes: float64(5), object(1)\n",
      "memory usage: 6.5+ GB\n"
     ]
    }
   ],
   "source": [
    "df.info()"
   ]
  },
  {
   "cell_type": "code",
   "execution_count": 58,
   "id": "95b1dd44-00aa-438c-9656-2628a9328480",
   "metadata": {},
   "outputs": [
    {
     "data": {
      "text/html": [
       "<div>\n",
       "<style scoped>\n",
       "    .dataframe tbody tr th:only-of-type {\n",
       "        vertical-align: middle;\n",
       "    }\n",
       "\n",
       "    .dataframe tbody tr th {\n",
       "        vertical-align: top;\n",
       "    }\n",
       "\n",
       "    .dataframe thead th {\n",
       "        text-align: right;\n",
       "    }\n",
       "</style>\n",
       "<table border=\"1\" class=\"dataframe\">\n",
       "  <thead>\n",
       "    <tr style=\"text-align: right;\">\n",
       "      <th></th>\n",
       "      <th>lat_min</th>\n",
       "      <th>lat_max</th>\n",
       "      <th>lon_min</th>\n",
       "      <th>lon_max</th>\n",
       "      <th>rain (mm/day)</th>\n",
       "    </tr>\n",
       "  </thead>\n",
       "  <tbody>\n",
       "    <tr>\n",
       "      <th>count</th>\n",
       "      <td>1.184971e+08</td>\n",
       "      <td>1.249357e+08</td>\n",
       "      <td>1.184971e+08</td>\n",
       "      <td>1.249357e+08</td>\n",
       "      <td>1.184971e+08</td>\n",
       "    </tr>\n",
       "    <tr>\n",
       "      <th>mean</th>\n",
       "      <td>-3.310482e+01</td>\n",
       "      <td>-3.197757e+01</td>\n",
       "      <td>1.469059e+02</td>\n",
       "      <td>1.482150e+02</td>\n",
       "      <td>1.901170e+00</td>\n",
       "    </tr>\n",
       "    <tr>\n",
       "      <th>std</th>\n",
       "      <td>1.963549e+00</td>\n",
       "      <td>1.992067e+00</td>\n",
       "      <td>3.793784e+00</td>\n",
       "      <td>3.809994e+00</td>\n",
       "      <td>5.585735e+00</td>\n",
       "    </tr>\n",
       "    <tr>\n",
       "      <th>min</th>\n",
       "      <td>-3.646739e+01</td>\n",
       "      <td>-3.600000e+01</td>\n",
       "      <td>1.406250e+02</td>\n",
       "      <td>1.412500e+02</td>\n",
       "      <td>-3.807373e-12</td>\n",
       "    </tr>\n",
       "    <tr>\n",
       "      <th>25%</th>\n",
       "      <td>-3.486911e+01</td>\n",
       "      <td>-3.366221e+01</td>\n",
       "      <td>1.434375e+02</td>\n",
       "      <td>1.450000e+02</td>\n",
       "      <td>3.838411e-06</td>\n",
       "    </tr>\n",
       "    <tr>\n",
       "      <th>50%</th>\n",
       "      <td>-3.300000e+01</td>\n",
       "      <td>-3.204188e+01</td>\n",
       "      <td>1.468750e+02</td>\n",
       "      <td>1.481250e+02</td>\n",
       "      <td>6.154947e-02</td>\n",
       "    </tr>\n",
       "    <tr>\n",
       "      <th>75%</th>\n",
       "      <td>-3.140170e+01</td>\n",
       "      <td>-3.015707e+01</td>\n",
       "      <td>1.501875e+02</td>\n",
       "      <td>1.513125e+02</td>\n",
       "      <td>1.020918e+00</td>\n",
       "    </tr>\n",
       "    <tr>\n",
       "      <th>max</th>\n",
       "      <td>-2.990000e+01</td>\n",
       "      <td>-2.790606e+01</td>\n",
       "      <td>1.537500e+02</td>\n",
       "      <td>1.556250e+02</td>\n",
       "      <td>4.329395e+02</td>\n",
       "    </tr>\n",
       "  </tbody>\n",
       "</table>\n",
       "</div>"
      ],
      "text/plain": [
       "            lat_min       lat_max       lon_min       lon_max  rain (mm/day)\n",
       "count  1.184971e+08  1.249357e+08  1.184971e+08  1.249357e+08   1.184971e+08\n",
       "mean  -3.310482e+01 -3.197757e+01  1.469059e+02  1.482150e+02   1.901170e+00\n",
       "std    1.963549e+00  1.992067e+00  3.793784e+00  3.809994e+00   5.585735e+00\n",
       "min   -3.646739e+01 -3.600000e+01  1.406250e+02  1.412500e+02  -3.807373e-12\n",
       "25%   -3.486911e+01 -3.366221e+01  1.434375e+02  1.450000e+02   3.838411e-06\n",
       "50%   -3.300000e+01 -3.204188e+01  1.468750e+02  1.481250e+02   6.154947e-02\n",
       "75%   -3.140170e+01 -3.015707e+01  1.501875e+02  1.513125e+02   1.020918e+00\n",
       "max   -2.990000e+01 -2.790606e+01  1.537500e+02  1.556250e+02   4.329395e+02"
      ]
     },
     "execution_count": 58,
     "metadata": {},
     "output_type": "execute_result"
    }
   ],
   "source": [
    "df.describe()"
   ]
  },
  {
   "cell_type": "code",
   "execution_count": null,
   "id": "d129f15e-2aec-499b-ad09-6502d077a5f3",
   "metadata": {},
   "outputs": [],
   "source": []
  }
 ],
 "metadata": {
  "kernelspec": {
   "display_name": "Python [conda env:525]",
   "language": "python",
   "name": "conda-env-525-py"
  },
  "language_info": {
   "codemirror_mode": {
    "name": "ipython",
    "version": 3
   },
   "file_extension": ".py",
   "mimetype": "text/x-python",
   "name": "python",
   "nbconvert_exporter": "python",
   "pygments_lexer": "ipython3",
   "version": "3.8.6"
  }
 },
 "nbformat": 4,
 "nbformat_minor": 5
}
