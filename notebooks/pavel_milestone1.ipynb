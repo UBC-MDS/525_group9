{
 "cells": [
  {
   "cell_type": "code",
   "execution_count": 1,
   "id": "d3e30293-797b-4756-bd53-d0724a99262b",
   "metadata": {},
   "outputs": [],
   "source": [
    "import re\n",
    "import os\n",
    "import glob\n",
    "import zipfile\n",
    "import requests\n",
    "from urllib.request import urlretrieve\n",
    "import json\n",
    "import pandas as pd"
   ]
  },
  {
   "cell_type": "code",
   "execution_count": 2,
   "id": "0411d7d4-ba49-46f7-9e1a-8c9d5b986ae9",
   "metadata": {},
   "outputs": [
    {
     "data": {
      "text/plain": [
       "[{'id': 26579150,\n",
       "  'name': 'daily_rainfall_2014.png',\n",
       "  'size': 58863,\n",
       "  'is_link_only': False,\n",
       "  'download_url': 'https://ndownloader.figshare.com/files/26579150',\n",
       "  'supplied_md5': 'fd32a2ffde300a31f8d63b1825d47e5e',\n",
       "  'computed_md5': 'fd32a2ffde300a31f8d63b1825d47e5e'},\n",
       " {'id': 26579171,\n",
       "  'name': 'environment.yml',\n",
       "  'size': 192,\n",
       "  'is_link_only': False,\n",
       "  'download_url': 'https://ndownloader.figshare.com/files/26579171',\n",
       "  'supplied_md5': '060b2020017eed93a1ee7dd8c65b2f34',\n",
       "  'computed_md5': '060b2020017eed93a1ee7dd8c65b2f34'},\n",
       " {'id': 26586554,\n",
       "  'name': 'README.md',\n",
       "  'size': 5422,\n",
       "  'is_link_only': False,\n",
       "  'download_url': 'https://ndownloader.figshare.com/files/26586554',\n",
       "  'supplied_md5': '61858c6cc0e6a6d6663a7e4c75bbd88c',\n",
       "  'computed_md5': '61858c6cc0e6a6d6663a7e4c75bbd88c'},\n",
       " {'id': 26766812,\n",
       "  'name': 'data.zip',\n",
       "  'size': 814041183,\n",
       "  'is_link_only': False,\n",
       "  'download_url': 'https://ndownloader.figshare.com/files/26766812',\n",
       "  'supplied_md5': 'b517383f76e77bd03755a63a8ff83ee9',\n",
       "  'computed_md5': 'b517383f76e77bd03755a63a8ff83ee9'},\n",
       " {'id': 26766815,\n",
       "  'name': 'get_data.py',\n",
       "  'size': 4113,\n",
       "  'is_link_only': False,\n",
       "  'download_url': 'https://ndownloader.figshare.com/files/26766815',\n",
       "  'supplied_md5': '7829028495fd9dec9680ea013474afa6',\n",
       "  'computed_md5': '7829028495fd9dec9680ea013474afa6'}]"
      ]
     },
     "execution_count": 2,
     "metadata": {},
     "output_type": "execute_result"
    }
   ],
   "source": [
    "article_id = 14096681 \n",
    "url = f\"https://api.figshare.com/v2/articles/{article_id}\"\n",
    "headers = {\"Content-Type\": \"application/json\"}\n",
    "output_directory = \"figshareaustralia/\"\n",
    "\n",
    "response = requests.request(\"GET\", url, headers=headers)\n",
    "data = json.loads(response.text) \n",
    "files = data[\"files\"]             \n",
    "files"
   ]
  },
  {
   "cell_type": "code",
   "execution_count": 5,
   "id": "fac46bef-afd5-4f93-8aab-27d7f9e69d2e",
   "metadata": {},
   "outputs": [
    {
     "name": "stdout",
     "output_type": "stream",
     "text": [
      "CPU times: total: 12.9 s\n",
      "Wall time: 58min 36s\n"
     ]
    }
   ],
   "source": [
    "%%time\n",
    "files_to_dl = [\"data.zip\"] \n",
    "for file in files:\n",
    "    if file[\"name\"] in files_to_dl:\n",
    "        os.makedirs(output_directory, exist_ok=True)\n",
    "        urlretrieve(file[\"download_url\"], output_directory + file[\"name\"])"
   ]
  },
  {
   "cell_type": "code",
   "execution_count": 6,
   "id": "f1028dd1-5fea-42a9-9b18-38b3c713390d",
   "metadata": {},
   "outputs": [
    {
     "name": "stdout",
     "output_type": "stream",
     "text": [
      "CPU times: total: 44.8 s\n",
      "Wall time: 45 s\n"
     ]
    }
   ],
   "source": [
    "%%time\n",
    "with zipfile.ZipFile(os.path.join(output_directory, \"data.zip\"), 'r') as f:\n",
    "    f.extractall(output_directory)"
   ]
  },
  {
   "cell_type": "code",
   "execution_count": 12,
   "id": "23b3fff6-a27a-43d6-b19b-38130e7994df",
   "metadata": {},
   "outputs": [
    {
     "name": "stdout",
     "output_type": "stream",
     "text": [
      "total 6016504\n",
      "-rw-r--r-- 1 plevc 197609 814041183 Mar 28 14:10 data.zip\n",
      "-rw-r--r-- 1 plevc 197609  95376895 Mar 28 14:10 MPI-ESM-1-2-HAM_daily_rainfall_NSW.csv\n",
      "-rw-r--r-- 1 plevc 197609  94960113 Mar 28 14:10 AWI-ESM-1-1-LR_daily_rainfall_NSW.csv\n",
      "-rw-r--r-- 1 plevc 197609  82474546 Mar 28 14:10 NorESM2-LM_daily_rainfall_NSW.csv\n",
      "-rw-r--r-- 1 plevc 197609 127613760 Mar 28 14:10 ACCESS-CM2_daily_rainfall_NSW.csv\n",
      "-rw-r--r-- 1 plevc 197609 232118894 Mar 28 14:10 FGOALS-f3-L_daily_rainfall_NSW.csv\n",
      "-rw-r--r-- 1 plevc 197609 330360682 Mar 28 14:10 CMCC-CM2-HR4_daily_rainfall_NSW.csv\n",
      "-rw-r--r-- 1 plevc 197609 254009247 Mar 28 14:10 MRI-ESM2-0_daily_rainfall_NSW.csv\n",
      "-rw-r--r-- 1 plevc 197609 235661418 Mar 28 14:10 GFDL-CM4_daily_rainfall_NSW.csv\n",
      "-rw-r--r-- 1 plevc 197609 294260911 Mar 28 14:10 BCC-CSM2-MR_daily_rainfall_NSW.csv\n",
      "-rw-r--r-- 1 plevc 197609 295768615 Mar 28 14:10 EC-Earth3-Veg-LR_daily_rainfall_NSW.csv\n",
      "-rw-r--r-- 1 plevc 197609 328852379 Mar 28 14:10 CMCC-ESM2_daily_rainfall_NSW.csv\n",
      "-rw-r--r-- 1 plevc 197609  67784105 Mar 28 14:10 NESM3_daily_rainfall_NSW.csv\n",
      "-rw-r--r-- 1 plevc 197609  95640682 Mar 28 14:10 MPI-ESM1-2-LR_daily_rainfall_NSW.csv\n",
      "-rw-r--r-- 1 plevc 197609 114707410 Mar 28 14:10 ACCESS-ESM1-5_daily_rainfall_NSW.csv\n",
      "-rw-r--r-- 1 plevc 197609 116179272 Mar 28 14:10 FGOALS-g3_daily_rainfall_NSW.csv\n",
      "-rw-r--r-- 1 plevc 197609 102517965 Mar 28 14:10 INM-CM4-8_daily_rainfall_NSW.csv\n",
      "-rw-r--r-- 1 plevc 197609 515458033 Mar 28 14:10 MPI-ESM1-2-HR_daily_rainfall_NSW.csv\n",
      "-rw-r--r-- 1 plevc 197609 332813281 Mar 28 14:10 TaiESM1_daily_rainfall_NSW.csv\n",
      "-rw-r--r-- 1 plevc 197609 337555851 Mar 28 14:10 NorESM2-MM_daily_rainfall_NSW.csv\n",
      "-rw-r--r-- 1 plevc 197609 328787320 Mar 28 14:10 CMCC-CM2-SR5_daily_rainfall_NSW.csv\n",
      "-rw-r--r-- 1 plevc 197609    952202 Mar 28 14:10 observed_daily_rainfall_SYD.csv\n",
      "-rw-r--r-- 1 plevc 197609  93829697 Mar 28 14:10 KIOST-ESM_daily_rainfall_NSW.csv\n",
      "-rw-r--r-- 1 plevc 197609 102692289 Mar 28 14:10 INM-CM5-0_daily_rainfall_NSW.csv\n",
      "-rw-r--r-- 1 plevc 197609 206822938 Mar 28 14:11 MIROC6_daily_rainfall_NSW.csv\n",
      "-rw-r--r-- 1 plevc 197609  55224437 Mar 28 14:11 BCC-ESM1_daily_rainfall_NSW.csv\n",
      "-rw-r--r-- 1 plevc 197609 124586961 Mar 28 14:11 GFDL-ESM4_daily_rainfall_NSW.csv\n",
      "-rw-r--r-- 1 plevc 197609  46286371 Mar 28 14:11 CanESM5_daily_rainfall_NSW.csv\n",
      "-rw-r--r-- 1 plevc 197609 333489879 Mar 28 14:11 SAM0-UNICON_daily_rainfall_NSW.csv\n",
      "drwxr-xr-x 1 plevc 197609         0 Mar 28 14:11 __MACOSX\n"
     ]
    }
   ],
   "source": [
    "%%sh\n",
    "ls -ltr figshareaustralia/"
   ]
  },
  {
   "cell_type": "code",
   "execution_count": 3,
   "id": "0c50a18e-193e-487f-a946-7a19ca1ddbb9",
   "metadata": {},
   "outputs": [
    {
     "name": "stdout",
     "output_type": "stream",
     "text": [
      "CPU times: total: 20min 44s\n",
      "Wall time: 20min 51s\n"
     ]
    }
   ],
   "source": [
    "%%time\n",
    "files = glob.glob('figshareaustralia/*.csv')\n",
    "df = pd.concat((pd.read_csv(file, index_col=0)\n",
    "                .assign(model=file.split('\\\\')[1].split('_daily')[0])\n",
    "                for file in files)\n",
    "              )\n",
    "df.to_csv(\"figshareaustralia/combined_data.csv\")"
   ]
  },
  {
   "cell_type": "code",
   "execution_count": 4,
   "id": "d98f750f-feaa-4401-9dad-614f375d14e4",
   "metadata": {},
   "outputs": [
    {
     "data": {
      "text/html": [
       "<div>\n",
       "<style scoped>\n",
       "    .dataframe tbody tr th:only-of-type {\n",
       "        vertical-align: middle;\n",
       "    }\n",
       "\n",
       "    .dataframe tbody tr th {\n",
       "        vertical-align: top;\n",
       "    }\n",
       "\n",
       "    .dataframe thead th {\n",
       "        text-align: right;\n",
       "    }\n",
       "</style>\n",
       "<table border=\"1\" class=\"dataframe\">\n",
       "  <thead>\n",
       "    <tr style=\"text-align: right;\">\n",
       "      <th></th>\n",
       "      <th>lat_min</th>\n",
       "      <th>lat_max</th>\n",
       "      <th>lon_min</th>\n",
       "      <th>lon_max</th>\n",
       "      <th>rain (mm/day)</th>\n",
       "      <th>model</th>\n",
       "    </tr>\n",
       "    <tr>\n",
       "      <th>time</th>\n",
       "      <th></th>\n",
       "      <th></th>\n",
       "      <th></th>\n",
       "      <th></th>\n",
       "      <th></th>\n",
       "      <th></th>\n",
       "    </tr>\n",
       "  </thead>\n",
       "  <tbody>\n",
       "    <tr>\n",
       "      <th>1889-01-01 12:00:00</th>\n",
       "      <td>-36.25</td>\n",
       "      <td>-35.0</td>\n",
       "      <td>140.625</td>\n",
       "      <td>142.5</td>\n",
       "      <td>3.293256e-13</td>\n",
       "      <td>ACCESS-CM2</td>\n",
       "    </tr>\n",
       "    <tr>\n",
       "      <th>1889-01-02 12:00:00</th>\n",
       "      <td>-36.25</td>\n",
       "      <td>-35.0</td>\n",
       "      <td>140.625</td>\n",
       "      <td>142.5</td>\n",
       "      <td>0.000000e+00</td>\n",
       "      <td>ACCESS-CM2</td>\n",
       "    </tr>\n",
       "    <tr>\n",
       "      <th>1889-01-03 12:00:00</th>\n",
       "      <td>-36.25</td>\n",
       "      <td>-35.0</td>\n",
       "      <td>140.625</td>\n",
       "      <td>142.5</td>\n",
       "      <td>0.000000e+00</td>\n",
       "      <td>ACCESS-CM2</td>\n",
       "    </tr>\n",
       "  </tbody>\n",
       "</table>\n",
       "</div>"
      ],
      "text/plain": [
       "                     lat_min  lat_max  lon_min  lon_max  rain (mm/day)  \\\n",
       "time                                                                     \n",
       "1889-01-01 12:00:00   -36.25    -35.0  140.625    142.5   3.293256e-13   \n",
       "1889-01-02 12:00:00   -36.25    -35.0  140.625    142.5   0.000000e+00   \n",
       "1889-01-03 12:00:00   -36.25    -35.0  140.625    142.5   0.000000e+00   \n",
       "\n",
       "                          model  \n",
       "time                             \n",
       "1889-01-01 12:00:00  ACCESS-CM2  \n",
       "1889-01-02 12:00:00  ACCESS-CM2  \n",
       "1889-01-03 12:00:00  ACCESS-CM2  "
      ]
     },
     "execution_count": 4,
     "metadata": {},
     "output_type": "execute_result"
    }
   ],
   "source": [
    "df.head(3)"
   ]
  },
  {
   "cell_type": "code",
   "execution_count": null,
   "id": "a1949436-0ae1-47d5-bc12-b255564c2887",
   "metadata": {},
   "outputs": [],
   "source": []
  }
 ],
 "metadata": {
  "kernelspec": {
   "display_name": "Python 3 (ipykernel)",
   "language": "python",
   "name": "python3"
  },
  "language_info": {
   "codemirror_mode": {
    "name": "ipython",
    "version": 3
   },
   "file_extension": ".py",
   "mimetype": "text/x-python",
   "name": "python",
   "nbconvert_exporter": "python",
   "pygments_lexer": "ipython3",
   "version": "3.8.6"
  }
 },
 "nbformat": 4,
 "nbformat_minor": 5
}
