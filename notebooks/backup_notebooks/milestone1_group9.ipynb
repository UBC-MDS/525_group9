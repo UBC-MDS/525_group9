{
 "cells": [
  {
   "cell_type": "code",
   "execution_count": 2,
   "id": "aae8f4e9-5585-4c4b-a59f-f91844a8ba15",
   "metadata": {},
   "outputs": [],
   "source": [
    "import re\n",
    "import os\n",
    "import glob\n",
    "import zipfile\n",
    "import requests\n",
    "from urllib.request import urlretrieve\n",
    "import json\n",
    "import pandas as pd\n",
    "import numpy as np\n",
    "import calendar\n",
    "import seaborn as sns\n",
    "import matplotlib.pyplot as plt"
   ]
  },
  {
   "cell_type": "markdown",
   "id": "fbf06651-665f-4a6e-b4cc-1993da37f81e",
   "metadata": {},
   "source": [
    "### Data downloading"
   ]
  },
  {
   "cell_type": "code",
   "execution_count": 3,
   "id": "68c60f81-f6df-43cc-a49c-75be40970fb9",
   "metadata": {},
   "outputs": [
    {
     "data": {
      "text/plain": [
       "[{'id': 26579150,\n",
       "  'name': 'daily_rainfall_2014.png',\n",
       "  'size': 58863,\n",
       "  'is_link_only': False,\n",
       "  'download_url': 'https://ndownloader.figshare.com/files/26579150',\n",
       "  'supplied_md5': 'fd32a2ffde300a31f8d63b1825d47e5e',\n",
       "  'computed_md5': 'fd32a2ffde300a31f8d63b1825d47e5e'},\n",
       " {'id': 26579171,\n",
       "  'name': 'environment.yml',\n",
       "  'size': 192,\n",
       "  'is_link_only': False,\n",
       "  'download_url': 'https://ndownloader.figshare.com/files/26579171',\n",
       "  'supplied_md5': '060b2020017eed93a1ee7dd8c65b2f34',\n",
       "  'computed_md5': '060b2020017eed93a1ee7dd8c65b2f34'},\n",
       " {'id': 26586554,\n",
       "  'name': 'README.md',\n",
       "  'size': 5422,\n",
       "  'is_link_only': False,\n",
       "  'download_url': 'https://ndownloader.figshare.com/files/26586554',\n",
       "  'supplied_md5': '61858c6cc0e6a6d6663a7e4c75bbd88c',\n",
       "  'computed_md5': '61858c6cc0e6a6d6663a7e4c75bbd88c'},\n",
       " {'id': 26766812,\n",
       "  'name': 'data.zip',\n",
       "  'size': 814041183,\n",
       "  'is_link_only': False,\n",
       "  'download_url': 'https://ndownloader.figshare.com/files/26766812',\n",
       "  'supplied_md5': 'b517383f76e77bd03755a63a8ff83ee9',\n",
       "  'computed_md5': 'b517383f76e77bd03755a63a8ff83ee9'},\n",
       " {'id': 26766815,\n",
       "  'name': 'get_data.py',\n",
       "  'size': 4113,\n",
       "  'is_link_only': False,\n",
       "  'download_url': 'https://ndownloader.figshare.com/files/26766815',\n",
       "  'supplied_md5': '7829028495fd9dec9680ea013474afa6',\n",
       "  'computed_md5': '7829028495fd9dec9680ea013474afa6'}]"
      ]
     },
     "execution_count": 3,
     "metadata": {},
     "output_type": "execute_result"
    }
   ],
   "source": [
    "# Code adapted from Lecture 1 of DSCI525:\n",
    "article_id = 14096681  \n",
    "url = f\"https://api.figshare.com/v2/articles/{article_id}\"\n",
    "headers = {\"Content-Type\": \"application/json\"}\n",
    "output_directory = \"figshareaustralia/\"\n",
    "\n",
    "response = requests.request(\"GET\", url, headers=headers)\n",
    "data = json.loads(response.text) \n",
    "files = data[\"files\"]            \n",
    "files"
   ]
  },
  {
   "cell_type": "code",
   "execution_count": 4,
   "id": "dcd77f65-a813-4e30-acae-073269bb6b53",
   "metadata": {},
   "outputs": [],
   "source": [
    "files_to_dl = [\"data.zip\"] \n",
    "for file in files:\n",
    "    if file[\"name\"] in files_to_dl:\n",
    "        os.makedirs(output_directory, exist_ok=True)\n",
    "        urlretrieve(file[\"download_url\"], output_directory + file[\"name\"])"
   ]
  },
  {
   "cell_type": "code",
   "execution_count": null,
   "id": "59ad45b7-804c-4798-97ad-919fac2a6679",
   "metadata": {},
   "outputs": [],
   "source": [
    "%%time\n",
    "with zipfile.ZipFile(os.path.join(output_directory, \"data.zip\"), 'r') as f:\n",
    "    f.extractall(output_directory)"
   ]
  },
  {
   "cell_type": "code",
   "execution_count": null,
   "id": "c64ec170-b4b5-44d3-b379-6c5844c73308",
   "metadata": {},
   "outputs": [],
   "source": [
    "%ls -ltr figshareaustralia/"
   ]
  },
  {
   "cell_type": "markdown",
   "id": "8ad43e25-3dc0-4869-9def-7cb1000cbee6",
   "metadata": {},
   "source": [
    "### Combining csvs"
   ]
  },
  {
   "cell_type": "code",
   "execution_count": 1,
   "id": "6ee5f756-ff49-4ca2-abeb-0ac09c554770",
   "metadata": {},
   "outputs": [
    {
     "ename": "NameError",
     "evalue": "name 'glob' is not defined",
     "output_type": "error",
     "traceback": [
      "\u001b[1;31m---------------------------------------------------------------------------\u001b[0m",
      "\u001b[1;31mNameError\u001b[0m                                 Traceback (most recent call last)",
      "File \u001b[1;32m<timed exec>:1\u001b[0m, in \u001b[0;36m<module>\u001b[1;34m\u001b[0m\n",
      "\u001b[1;31mNameError\u001b[0m: name 'glob' is not defined"
     ]
    }
   ],
   "source": [
    "%%time\n",
    "files = glob.glob('figshareaustralia/*.csv')\n",
    "files.remove('figshareaustralia\\\\observed_daily_rainfall_SYD.csv')\n",
    "\n",
    "df = pd.concat((pd.read_csv(file, index_col=0)\n",
    "                .assign(model=file.split('\\\\')[1].split('_daily')[0])\n",
    "                for file in files)\n",
    "              )\n",
    "df.to_csv(\"figshareaustralia/combined_data.csv\")"
   ]
  },
  {
   "cell_type": "markdown",
   "id": "57b6c34e-6575-45c8-af78-030e1330e1af",
   "metadata": {},
   "source": [
    "#### Summary table for combining files\n",
    "| Team Member | Operating System | RAM | Processor | Is SSD | Time taken |\n",
    "|:-----------:|:----------------:|:---:|:---------:|:------:|:----------:|\n",
    "| Sukhleen    |                  |     |           |        |            |\n",
    "| Daniel    |                  |     |           |        |            |\n",
    "| Pavel    |   Windows 11               | 16GB    |  i7-8750H@2.2GHz        |    yes    |     18min 39s       |\n",
    "| Rong   |     Windows 10             |   16GB     | i3-9100@3.60GHz    |     yes     |  6min 38s         |"
   ]
  },
  {
   "cell_type": "markdown",
   "id": "6deebe0e-e575-4477-a584-d0f57d1f9fce",
   "metadata": {},
   "source": [
    "### EDA in Python"
   ]
  },
  {
   "cell_type": "markdown",
   "id": "ded8b783-7d74-4b74-a62d-73a4830e024d",
   "metadata": {},
   "source": [
    "#### Reduce memory usage"
   ]
  },
  {
   "cell_type": "code",
   "execution_count": null,
   "id": "49534a62-0b0f-4c71-980e-4819340a453b",
   "metadata": {},
   "outputs": [],
   "source": []
  },
  {
   "cell_type": "markdown",
   "id": "92f730e6-a80c-4347-9795-82f4187109c3",
   "metadata": {},
   "source": [
    "#### Summary table reducing memory usage for EDA\n",
    "| Team Member | Operating System | RAM | Processor | Is SSD | Time taken for plot data using float64 |Time taken for plot data using float32|Time taken for plot data using only necessary columns|\n",
    "|:-----------:|:----------------:|:---:|:---------:|:------:|:----------:|:----------:|:----------:|\n",
    "| Sukhleen    |                  |     |           |        |            |            |            |\n",
    "| Daniel    |                  |     |           |        |            |            |            |\n",
    "| Pavel    |   Windows 11               | 16GB    |  i7-8750H@2.2GHz        |    yes    |            |            |            |\n",
    "| Rong    |     Windows 10             |   16GB     | i3-9100@3.60GHz    |     yes     |   31.5 s      |   21.5 s       |   22.9 s       |"
   ]
  },
  {
   "cell_type": "markdown",
   "id": "4eed95c0-dfb7-401f-9bb7-db1ddf4d0131",
   "metadata": {},
   "source": [
    "### Python EDA plots"
   ]
  },
  {
   "cell_type": "code",
   "execution_count": null,
   "id": "2c4f9b34-12c3-4cf6-9d10-1787df3bc529",
   "metadata": {},
   "outputs": [],
   "source": []
  },
  {
   "cell_type": "markdown",
   "id": "9032b4ae-654c-47a3-a580-dcf5ea766785",
   "metadata": {},
   "source": [
    "### EDA in R"
   ]
  },
  {
   "cell_type": "code",
   "execution_count": null,
   "id": "5d553132-1051-4402-a900-cf57ae24a57b",
   "metadata": {},
   "outputs": [],
   "source": []
  },
  {
   "cell_type": "code",
   "execution_count": null,
   "id": "812a94db-7566-47df-9684-85ad048abe95",
   "metadata": {},
   "outputs": [],
   "source": []
  }
 ],
 "metadata": {
  "kernelspec": {
   "display_name": "Python 3 (ipykernel)",
   "language": "python",
   "name": "python3"
  },
  "language_info": {
   "codemirror_mode": {
    "name": "ipython",
    "version": 3
   },
   "file_extension": ".py",
   "mimetype": "text/x-python",
   "name": "python",
   "nbconvert_exporter": "python",
   "pygments_lexer": "ipython3",
   "version": "3.9.9"
  }
 },
 "nbformat": 4,
 "nbformat_minor": 5
}
