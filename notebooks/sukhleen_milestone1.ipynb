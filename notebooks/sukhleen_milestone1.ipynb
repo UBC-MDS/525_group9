{
 "cells": [
  {
   "cell_type": "markdown",
   "id": "6bcb264f-5fe2-4e9f-b69e-7848f27c4bf8",
   "metadata": {},
   "source": [
    "## Downloading data"
   ]
  },
  {
   "cell_type": "code",
   "execution_count": 1,
   "id": "cb1389e4-c102-4662-a6f2-c86e95e68878",
   "metadata": {},
   "outputs": [],
   "source": [
    "import re\n",
    "import os\n",
    "import glob\n",
    "import zipfile\n",
    "import requests\n",
    "from urllib.request import urlretrieve\n",
    "import json\n",
    "import pandas as pd\n",
    "import matplotlib.pyplot as plt"
   ]
  },
  {
   "cell_type": "code",
   "execution_count": 2,
   "id": "f0ee97b2-93d0-41f9-bdf9-5fb316c9973d",
   "metadata": {},
   "outputs": [
    {
     "data": {
      "text/plain": [
       "[{'id': 26579150,\n",
       "  'name': 'daily_rainfall_2014.png',\n",
       "  'size': 58863,\n",
       "  'is_link_only': False,\n",
       "  'download_url': 'https://ndownloader.figshare.com/files/26579150',\n",
       "  'supplied_md5': 'fd32a2ffde300a31f8d63b1825d47e5e',\n",
       "  'computed_md5': 'fd32a2ffde300a31f8d63b1825d47e5e'},\n",
       " {'id': 26579171,\n",
       "  'name': 'environment.yml',\n",
       "  'size': 192,\n",
       "  'is_link_only': False,\n",
       "  'download_url': 'https://ndownloader.figshare.com/files/26579171',\n",
       "  'supplied_md5': '060b2020017eed93a1ee7dd8c65b2f34',\n",
       "  'computed_md5': '060b2020017eed93a1ee7dd8c65b2f34'},\n",
       " {'id': 26586554,\n",
       "  'name': 'README.md',\n",
       "  'size': 5422,\n",
       "  'is_link_only': False,\n",
       "  'download_url': 'https://ndownloader.figshare.com/files/26586554',\n",
       "  'supplied_md5': '61858c6cc0e6a6d6663a7e4c75bbd88c',\n",
       "  'computed_md5': '61858c6cc0e6a6d6663a7e4c75bbd88c'},\n",
       " {'id': 26766812,\n",
       "  'name': 'data.zip',\n",
       "  'size': 814041183,\n",
       "  'is_link_only': False,\n",
       "  'download_url': 'https://ndownloader.figshare.com/files/26766812',\n",
       "  'supplied_md5': 'b517383f76e77bd03755a63a8ff83ee9',\n",
       "  'computed_md5': 'b517383f76e77bd03755a63a8ff83ee9'},\n",
       " {'id': 26766815,\n",
       "  'name': 'get_data.py',\n",
       "  'size': 4113,\n",
       "  'is_link_only': False,\n",
       "  'download_url': 'https://ndownloader.figshare.com/files/26766815',\n",
       "  'supplied_md5': '7829028495fd9dec9680ea013474afa6',\n",
       "  'computed_md5': '7829028495fd9dec9680ea013474afa6'}]"
      ]
     },
     "execution_count": 2,
     "metadata": {},
     "output_type": "execute_result"
    }
   ],
   "source": [
    "url = \"https://api.figshare.com/v2/articles/14096681\"\n",
    "output_directory = \"figsharerainfall/\"\n",
    "\n",
    "response = requests.request(\"GET\", url)\n",
    "data = json.loads(response.text)\n",
    "files = data[\"files\"]\n",
    "files"
   ]
  },
  {
   "cell_type": "code",
   "execution_count": 3,
   "id": "3119a42d-f6f8-408d-ba91-a7bcd18ffb9c",
   "metadata": {},
   "outputs": [
    {
     "name": "stdout",
     "output_type": "stream",
     "text": [
      "CPU times: user 4.92 s, sys: 3.64 s, total: 8.56 s\n",
      "Wall time: 57.9 s\n"
     ]
    }
   ],
   "source": [
    "%%time\n",
    "files_to_dl = [\"data.zip\"]\n",
    "for file in files:\n",
    "    if file[\"name\"] in files_to_dl:\n",
    "        os.makedirs(output_directory, exist_ok=True)\n",
    "        urlretrieve(file[\"download_url\"], output_directory + file[\"name\"])"
   ]
  },
  {
   "cell_type": "code",
   "execution_count": 4,
   "id": "355b8263-a274-4cac-bda8-0e89590c6d3b",
   "metadata": {},
   "outputs": [
    {
     "name": "stdout",
     "output_type": "stream",
     "text": [
      "CPU times: user 14.7 s, sys: 1.04 s, total: 15.7 s\n",
      "Wall time: 16.6 s\n"
     ]
    }
   ],
   "source": [
    "%%time\n",
    "with zipfile.ZipFile(os.path.join(output_directory, \"data.zip\"), 'r') as f:\n",
    "    f.extractall(output_directory)"
   ]
  },
  {
   "cell_type": "code",
   "execution_count": 5,
   "id": "5950f5e2-a993-40fd-8878-879b98397984",
   "metadata": {},
   "outputs": [
    {
     "name": "stdout",
     "output_type": "stream",
     "text": [
      "total 36087176\n",
      "drwxr-xr-x  30 sukhleen  staff          960 28 Mar 15:15 \u001b[1m\u001b[34m__MACOSX\u001b[m\u001b[m/\n",
      "-rw-r--r--   1 sukhleen  staff  12098905446 28 Mar 16:00 combined_data.csv\n",
      "-rw-r--r--   1 sukhleen  staff    814041183 31 Mar 20:02 data.zip\n",
      "-rw-r--r--   1 sukhleen  staff     95376895 31 Mar 20:02 MPI-ESM-1-2-HAM_daily_rainfall_NSW.csv\n",
      "-rw-r--r--   1 sukhleen  staff     94960113 31 Mar 20:02 AWI-ESM-1-1-LR_daily_rainfall_NSW.csv\n",
      "-rw-r--r--   1 sukhleen  staff     82474546 31 Mar 20:02 NorESM2-LM_daily_rainfall_NSW.csv\n",
      "-rw-r--r--   1 sukhleen  staff    127613760 31 Mar 20:02 ACCESS-CM2_daily_rainfall_NSW.csv\n",
      "-rw-r--r--   1 sukhleen  staff    232118894 31 Mar 20:02 FGOALS-f3-L_daily_rainfall_NSW.csv\n",
      "-rw-r--r--   1 sukhleen  staff    330360682 31 Mar 20:02 CMCC-CM2-HR4_daily_rainfall_NSW.csv\n",
      "-rw-r--r--   1 sukhleen  staff    254009247 31 Mar 20:02 MRI-ESM2-0_daily_rainfall_NSW.csv\n",
      "-rw-r--r--   1 sukhleen  staff    235661418 31 Mar 20:02 GFDL-CM4_daily_rainfall_NSW.csv\n",
      "-rw-r--r--   1 sukhleen  staff    294260911 31 Mar 20:02 BCC-CSM2-MR_daily_rainfall_NSW.csv\n",
      "-rw-r--r--   1 sukhleen  staff    295768615 31 Mar 20:02 EC-Earth3-Veg-LR_daily_rainfall_NSW.csv\n",
      "-rw-r--r--   1 sukhleen  staff    328852379 31 Mar 20:02 CMCC-ESM2_daily_rainfall_NSW.csv\n",
      "-rw-r--r--   1 sukhleen  staff     67784105 31 Mar 20:02 NESM3_daily_rainfall_NSW.csv\n",
      "-rw-r--r--   1 sukhleen  staff     95640682 31 Mar 20:02 MPI-ESM1-2-LR_daily_rainfall_NSW.csv\n",
      "-rw-r--r--   1 sukhleen  staff    114707410 31 Mar 20:02 ACCESS-ESM1-5_daily_rainfall_NSW.csv\n",
      "-rw-r--r--   1 sukhleen  staff    116179272 31 Mar 20:02 FGOALS-g3_daily_rainfall_NSW.csv\n",
      "-rw-r--r--   1 sukhleen  staff    102517965 31 Mar 20:02 INM-CM4-8_daily_rainfall_NSW.csv\n",
      "-rw-r--r--   1 sukhleen  staff    515458033 31 Mar 20:02 MPI-ESM1-2-HR_daily_rainfall_NSW.csv\n",
      "-rw-r--r--   1 sukhleen  staff    332813281 31 Mar 20:02 TaiESM1_daily_rainfall_NSW.csv\n",
      "-rw-r--r--   1 sukhleen  staff    337555851 31 Mar 20:02 NorESM2-MM_daily_rainfall_NSW.csv\n",
      "-rw-r--r--   1 sukhleen  staff    328787320 31 Mar 20:02 CMCC-CM2-SR5_daily_rainfall_NSW.csv\n",
      "-rw-r--r--   1 sukhleen  staff       952202 31 Mar 20:02 observed_daily_rainfall_SYD.csv\n",
      "-rw-r--r--   1 sukhleen  staff     93829697 31 Mar 20:02 KIOST-ESM_daily_rainfall_NSW.csv\n",
      "-rw-r--r--   1 sukhleen  staff    102692289 31 Mar 20:02 INM-CM5-0_daily_rainfall_NSW.csv\n",
      "-rw-r--r--   1 sukhleen  staff    206822938 31 Mar 20:02 MIROC6_daily_rainfall_NSW.csv\n",
      "-rw-r--r--   1 sukhleen  staff     55224437 31 Mar 20:02 BCC-ESM1_daily_rainfall_NSW.csv\n",
      "-rw-r--r--   1 sukhleen  staff    124586961 31 Mar 20:02 GFDL-ESM4_daily_rainfall_NSW.csv\n",
      "-rw-r--r--   1 sukhleen  staff     46286371 31 Mar 20:02 CanESM5_daily_rainfall_NSW.csv\n",
      "-rw-r--r--   1 sukhleen  staff    333489879 31 Mar 20:02 SAM0-UNICON_daily_rainfall_NSW.csv\n"
     ]
    }
   ],
   "source": [
    "%ls -ltr figsharerainfall/"
   ]
  },
  {
   "cell_type": "markdown",
   "id": "19d1ee35-d619-47cc-9aba-8b2b7bd03e75",
   "metadata": {},
   "source": [
    "## Combining CSVs"
   ]
  },
  {
   "cell_type": "code",
   "execution_count": 6,
   "id": "7a242c54-98d2-4c43-a3c1-3ad673e6f380",
   "metadata": {},
   "outputs": [
    {
     "name": "stdout",
     "output_type": "stream",
     "text": [
      "CPU times: user 18min 7s, sys: 37.9 s, total: 18min 45s\n",
      "Wall time: 19min 9s\n"
     ]
    }
   ],
   "source": [
    "%%time\n",
    "use_cols = [\"time\", \"lat_min\", \"lat_max\", \"lon_min\", \"lon_max\", \"rain (mm/day)\"]\n",
    "files = glob.glob('figsharerainfall/*.csv')\n",
    "files.remove('figsharerainfall/observed_daily_rainfall_SYD.csv')\n",
    "\n",
    "df = pd.concat((pd.read_csv(file, index_col=0, usecols=use_cols)\n",
    "                .assign(model=re.findall(r'[^\\/]+(?=\\.)', file)[0].split(\"_daily\")[0])\n",
    "                for file in files)\n",
    "              )\n",
    "df.to_csv(\"figsharerainfall/combined_data.csv\")"
   ]
  },
  {
   "cell_type": "code",
   "execution_count": 7,
   "id": "f7b202c9-963e-44b1-a13a-adc6850c562b",
   "metadata": {},
   "outputs": [
    {
     "name": "stdout",
     "output_type": "stream",
     "text": [
      " 17G\tfigsharerainfall/combined_data.csv\n"
     ]
    }
   ],
   "source": [
    "%%sh\n",
    "du -sh figsharerainfall/combined_data.csv"
   ]
  },
  {
   "cell_type": "code",
   "execution_count": 8,
   "id": "e909c0a9-62a3-464f-a64d-028fd6fd4268",
   "metadata": {},
   "outputs": [
    {
     "data": {
      "text/plain": [
       "(187403529, 6)"
      ]
     },
     "execution_count": 8,
     "metadata": {},
     "output_type": "execute_result"
    }
   ],
   "source": [
    "df.shape"
   ]
  },
  {
   "cell_type": "code",
   "execution_count": 9,
   "id": "f389a638-d199-4c73-85f0-a3ccc8be29f8",
   "metadata": {},
   "outputs": [
    {
     "data": {
      "text/html": [
       "<div>\n",
       "<style scoped>\n",
       "    .dataframe tbody tr th:only-of-type {\n",
       "        vertical-align: middle;\n",
       "    }\n",
       "\n",
       "    .dataframe tbody tr th {\n",
       "        vertical-align: top;\n",
       "    }\n",
       "\n",
       "    .dataframe thead th {\n",
       "        text-align: right;\n",
       "    }\n",
       "</style>\n",
       "<table border=\"1\" class=\"dataframe\">\n",
       "  <thead>\n",
       "    <tr style=\"text-align: right;\">\n",
       "      <th></th>\n",
       "      <th>lat_min</th>\n",
       "      <th>lat_max</th>\n",
       "      <th>lon_min</th>\n",
       "      <th>lon_max</th>\n",
       "      <th>rain (mm/day)</th>\n",
       "      <th>model</th>\n",
       "    </tr>\n",
       "    <tr>\n",
       "      <th>time</th>\n",
       "      <th></th>\n",
       "      <th></th>\n",
       "      <th></th>\n",
       "      <th></th>\n",
       "      <th></th>\n",
       "      <th></th>\n",
       "    </tr>\n",
       "  </thead>\n",
       "  <tbody>\n",
       "    <tr>\n",
       "      <th>1889-01-01 12:00:00</th>\n",
       "      <td>-35.439867</td>\n",
       "      <td>-33.574619</td>\n",
       "      <td>141.5625</td>\n",
       "      <td>143.4375</td>\n",
       "      <td>4.244226e-13</td>\n",
       "      <td>MPI-ESM-1-2-HAM</td>\n",
       "    </tr>\n",
       "    <tr>\n",
       "      <th>1889-01-02 12:00:00</th>\n",
       "      <td>-35.439867</td>\n",
       "      <td>-33.574619</td>\n",
       "      <td>141.5625</td>\n",
       "      <td>143.4375</td>\n",
       "      <td>4.217326e-13</td>\n",
       "      <td>MPI-ESM-1-2-HAM</td>\n",
       "    </tr>\n",
       "    <tr>\n",
       "      <th>1889-01-03 12:00:00</th>\n",
       "      <td>-35.439867</td>\n",
       "      <td>-33.574619</td>\n",
       "      <td>141.5625</td>\n",
       "      <td>143.4375</td>\n",
       "      <td>4.498125e-13</td>\n",
       "      <td>MPI-ESM-1-2-HAM</td>\n",
       "    </tr>\n",
       "    <tr>\n",
       "      <th>1889-01-04 12:00:00</th>\n",
       "      <td>-35.439867</td>\n",
       "      <td>-33.574619</td>\n",
       "      <td>141.5625</td>\n",
       "      <td>143.4375</td>\n",
       "      <td>4.251282e-13</td>\n",
       "      <td>MPI-ESM-1-2-HAM</td>\n",
       "    </tr>\n",
       "    <tr>\n",
       "      <th>1889-01-05 12:00:00</th>\n",
       "      <td>-35.439867</td>\n",
       "      <td>-33.574619</td>\n",
       "      <td>141.5625</td>\n",
       "      <td>143.4375</td>\n",
       "      <td>4.270161e-13</td>\n",
       "      <td>MPI-ESM-1-2-HAM</td>\n",
       "    </tr>\n",
       "  </tbody>\n",
       "</table>\n",
       "</div>"
      ],
      "text/plain": [
       "                       lat_min    lat_max   lon_min   lon_max  rain (mm/day)  \\\n",
       "time                                                                           \n",
       "1889-01-01 12:00:00 -35.439867 -33.574619  141.5625  143.4375   4.244226e-13   \n",
       "1889-01-02 12:00:00 -35.439867 -33.574619  141.5625  143.4375   4.217326e-13   \n",
       "1889-01-03 12:00:00 -35.439867 -33.574619  141.5625  143.4375   4.498125e-13   \n",
       "1889-01-04 12:00:00 -35.439867 -33.574619  141.5625  143.4375   4.251282e-13   \n",
       "1889-01-05 12:00:00 -35.439867 -33.574619  141.5625  143.4375   4.270161e-13   \n",
       "\n",
       "                               model  \n",
       "time                                  \n",
       "1889-01-01 12:00:00  MPI-ESM-1-2-HAM  \n",
       "1889-01-02 12:00:00  MPI-ESM-1-2-HAM  \n",
       "1889-01-03 12:00:00  MPI-ESM-1-2-HAM  \n",
       "1889-01-04 12:00:00  MPI-ESM-1-2-HAM  \n",
       "1889-01-05 12:00:00  MPI-ESM-1-2-HAM  "
      ]
     },
     "execution_count": 9,
     "metadata": {},
     "output_type": "execute_result"
    }
   ],
   "source": [
    "df.head()"
   ]
  },
  {
   "cell_type": "markdown",
   "id": "2eb3956a-39e7-4922-81a3-93eee026cf55",
   "metadata": {},
   "source": [
    "#### Run times:"
   ]
  },
  {
   "cell_type": "markdown",
   "id": "bc608cbb-ca60-40ab-913e-8737e522ad45",
   "metadata": {},
   "source": [
    "| Team Member | Operating System | RAM | Processor | Is SSD | CPU times | Wall time |\n",
    "| --- | --- | --- | --- | --- | --- | --- | \n",
    "| Daniel   | ---   | --- | --- | --- | --- | --- | \n",
    "| Pavel    | ---   | --- | --- | --- | --- | --- | \n",
    "| Rong     | ---   | --- | --- | --- | --- | --- | \n",
    "| Sukhleen | MacOS | 16GB | M1 | Yes | 18min 45s | 19min 9s | "
   ]
  },
  {
   "cell_type": "markdown",
   "id": "864e7aeb-d19c-4c3d-8ea0-32f168d0b454",
   "metadata": {},
   "source": [
    "## EDA in Python"
   ]
  },
  {
   "cell_type": "markdown",
   "id": "d709846a-fc09-4db2-8e0d-84ebfbc52476",
   "metadata": {},
   "source": [
    "### Loading the combined data into memory and performing simple EDA"
   ]
  },
  {
   "cell_type": "code",
   "execution_count": 10,
   "id": "bd401a87-d2da-4d8b-99eb-1bade8dde5c9",
   "metadata": {},
   "outputs": [
    {
     "name": "stdout",
     "output_type": "stream",
     "text": [
      "CPU times: user 2min 25s, sys: 21.3 s, total: 2min 46s\n",
      "Wall time: 9min 28s\n"
     ]
    },
    {
     "name": "stderr",
     "output_type": "stream",
     "text": [
      "IOStream.flush timed out\n"
     ]
    },
    {
     "data": {
      "text/plain": [
       "combined_data       124935686\n",
       "MPI-ESM1-2-HR         5154240\n",
       "CMCC-ESM2             3541230\n",
       "NorESM2-MM            3541230\n",
       "TaiESM1               3541230\n",
       "CMCC-CM2-SR5          3541230\n",
       "CMCC-CM2-HR4          3541230\n",
       "SAM0-UNICON           3541153\n",
       "GFDL-CM4              3219300\n",
       "FGOALS-f3-L           3219300\n",
       "GFDL-ESM4             3219300\n",
       "MRI-ESM2-0            3037320\n",
       "EC-Earth3-Veg-LR      3037320\n",
       "BCC-CSM2-MR           3035340\n",
       "MIROC6                2070900\n",
       "ACCESS-CM2            1932840\n",
       "ACCESS-ESM1-5         1610700\n",
       "INM-CM5-0             1609650\n",
       "INM-CM4-8             1609650\n",
       "KIOST-ESM             1287720\n",
       "FGOALS-g3             1287720\n",
       "AWI-ESM-1-1-LR         966420\n",
       "MPI-ESM1-2-LR          966420\n",
       "NESM3                  966420\n",
       "MPI-ESM-1-2-HAM        966420\n",
       "NorESM2-LM             919800\n",
       "BCC-ESM1               551880\n",
       "CanESM5                551880\n",
       "Name: model, dtype: int64"
      ]
     },
     "execution_count": 10,
     "metadata": {},
     "output_type": "execute_result"
    }
   ],
   "source": [
    "%%time\n",
    "df = pd.read_csv(\"figsharerainfall/combined_data.csv\", index_col=0)\n",
    "df['model'].value_counts()"
   ]
  },
  {
   "cell_type": "markdown",
   "id": "7a660e24-5b6c-4ab5-a39d-d73b648519d3",
   "metadata": {},
   "source": [
    "#### Run times:"
   ]
  },
  {
   "cell_type": "markdown",
   "id": "6bd47051-9b01-4904-93a3-af6a65b4e76f",
   "metadata": {},
   "source": [
    "| Team Member | Operating System | RAM | Processor | Is SSD | CPU times | Wall time |\n",
    "| --- | --- | --- | --- | --- | --- | --- | \n",
    "| Daniel   | ---   | --- | --- | --- | --- | --- | \n",
    "| Pavel    | ---   | --- | --- | --- | --- | --- | \n",
    "| Rong     | ---   | --- | --- | --- | --- | --- | \n",
    "| Sukhleen | MacOS | 16GB | M1 | Yes | 2min 46s | 9min 28s | "
   ]
  },
  {
   "cell_type": "code",
   "execution_count": 11,
   "id": "ea5e4c4d-fca1-4122-8822-f272926d4a6b",
   "metadata": {},
   "outputs": [
    {
     "data": {
      "text/html": [
       "<div>\n",
       "<style scoped>\n",
       "    .dataframe tbody tr th:only-of-type {\n",
       "        vertical-align: middle;\n",
       "    }\n",
       "\n",
       "    .dataframe tbody tr th {\n",
       "        vertical-align: top;\n",
       "    }\n",
       "\n",
       "    .dataframe thead th {\n",
       "        text-align: right;\n",
       "    }\n",
       "</style>\n",
       "<table border=\"1\" class=\"dataframe\">\n",
       "  <thead>\n",
       "    <tr style=\"text-align: right;\">\n",
       "      <th></th>\n",
       "      <th>lat_min</th>\n",
       "      <th>lat_max</th>\n",
       "      <th>lon_min</th>\n",
       "      <th>lon_max</th>\n",
       "      <th>rain (mm/day)</th>\n",
       "      <th>model</th>\n",
       "    </tr>\n",
       "    <tr>\n",
       "      <th>time</th>\n",
       "      <th></th>\n",
       "      <th></th>\n",
       "      <th></th>\n",
       "      <th></th>\n",
       "      <th></th>\n",
       "      <th></th>\n",
       "    </tr>\n",
       "  </thead>\n",
       "  <tbody>\n",
       "    <tr>\n",
       "      <th>1889-01-01 12:00:00</th>\n",
       "      <td>-35.439867</td>\n",
       "      <td>-33.574619</td>\n",
       "      <td>141.5625</td>\n",
       "      <td>143.4375</td>\n",
       "      <td>4.244226e-13</td>\n",
       "      <td>MPI-ESM-1-2-HAM</td>\n",
       "    </tr>\n",
       "    <tr>\n",
       "      <th>1889-01-02 12:00:00</th>\n",
       "      <td>-35.439867</td>\n",
       "      <td>-33.574619</td>\n",
       "      <td>141.5625</td>\n",
       "      <td>143.4375</td>\n",
       "      <td>4.217326e-13</td>\n",
       "      <td>MPI-ESM-1-2-HAM</td>\n",
       "    </tr>\n",
       "    <tr>\n",
       "      <th>1889-01-03 12:00:00</th>\n",
       "      <td>-35.439867</td>\n",
       "      <td>-33.574619</td>\n",
       "      <td>141.5625</td>\n",
       "      <td>143.4375</td>\n",
       "      <td>4.498125e-13</td>\n",
       "      <td>MPI-ESM-1-2-HAM</td>\n",
       "    </tr>\n",
       "    <tr>\n",
       "      <th>1889-01-04 12:00:00</th>\n",
       "      <td>-35.439867</td>\n",
       "      <td>-33.574619</td>\n",
       "      <td>141.5625</td>\n",
       "      <td>143.4375</td>\n",
       "      <td>4.251282e-13</td>\n",
       "      <td>MPI-ESM-1-2-HAM</td>\n",
       "    </tr>\n",
       "    <tr>\n",
       "      <th>1889-01-05 12:00:00</th>\n",
       "      <td>-35.439867</td>\n",
       "      <td>-33.574619</td>\n",
       "      <td>141.5625</td>\n",
       "      <td>143.4375</td>\n",
       "      <td>4.270161e-13</td>\n",
       "      <td>MPI-ESM-1-2-HAM</td>\n",
       "    </tr>\n",
       "    <tr>\n",
       "      <th>...</th>\n",
       "      <td>...</td>\n",
       "      <td>...</td>\n",
       "      <td>...</td>\n",
       "      <td>...</td>\n",
       "      <td>...</td>\n",
       "      <td>...</td>\n",
       "    </tr>\n",
       "    <tr>\n",
       "      <th>2014-12-27 12:00:00</th>\n",
       "      <td>-30.157068</td>\n",
       "      <td>-29.214660</td>\n",
       "      <td>153.1250</td>\n",
       "      <td>154.3750</td>\n",
       "      <td>6.689683e+00</td>\n",
       "      <td>SAM0-UNICON</td>\n",
       "    </tr>\n",
       "    <tr>\n",
       "      <th>2014-12-28 12:00:00</th>\n",
       "      <td>-30.157068</td>\n",
       "      <td>-29.214660</td>\n",
       "      <td>153.1250</td>\n",
       "      <td>154.3750</td>\n",
       "      <td>7.862555e+00</td>\n",
       "      <td>SAM0-UNICON</td>\n",
       "    </tr>\n",
       "    <tr>\n",
       "      <th>2014-12-29 12:00:00</th>\n",
       "      <td>-30.157068</td>\n",
       "      <td>-29.214660</td>\n",
       "      <td>153.1250</td>\n",
       "      <td>154.3750</td>\n",
       "      <td>1.000503e+01</td>\n",
       "      <td>SAM0-UNICON</td>\n",
       "    </tr>\n",
       "    <tr>\n",
       "      <th>2014-12-30 12:00:00</th>\n",
       "      <td>-30.157068</td>\n",
       "      <td>-29.214660</td>\n",
       "      <td>153.1250</td>\n",
       "      <td>154.3750</td>\n",
       "      <td>8.541592e+00</td>\n",
       "      <td>SAM0-UNICON</td>\n",
       "    </tr>\n",
       "    <tr>\n",
       "      <th>2014-12-31 12:00:00</th>\n",
       "      <td>-30.157068</td>\n",
       "      <td>-29.214660</td>\n",
       "      <td>153.1250</td>\n",
       "      <td>154.3750</td>\n",
       "      <td>6.811749e+01</td>\n",
       "      <td>SAM0-UNICON</td>\n",
       "    </tr>\n",
       "  </tbody>\n",
       "</table>\n",
       "<p>187403529 rows × 6 columns</p>\n",
       "</div>"
      ],
      "text/plain": [
       "                       lat_min    lat_max   lon_min   lon_max  rain (mm/day)  \\\n",
       "time                                                                           \n",
       "1889-01-01 12:00:00 -35.439867 -33.574619  141.5625  143.4375   4.244226e-13   \n",
       "1889-01-02 12:00:00 -35.439867 -33.574619  141.5625  143.4375   4.217326e-13   \n",
       "1889-01-03 12:00:00 -35.439867 -33.574619  141.5625  143.4375   4.498125e-13   \n",
       "1889-01-04 12:00:00 -35.439867 -33.574619  141.5625  143.4375   4.251282e-13   \n",
       "1889-01-05 12:00:00 -35.439867 -33.574619  141.5625  143.4375   4.270161e-13   \n",
       "...                        ...        ...       ...       ...            ...   \n",
       "2014-12-27 12:00:00 -30.157068 -29.214660  153.1250  154.3750   6.689683e+00   \n",
       "2014-12-28 12:00:00 -30.157068 -29.214660  153.1250  154.3750   7.862555e+00   \n",
       "2014-12-29 12:00:00 -30.157068 -29.214660  153.1250  154.3750   1.000503e+01   \n",
       "2014-12-30 12:00:00 -30.157068 -29.214660  153.1250  154.3750   8.541592e+00   \n",
       "2014-12-31 12:00:00 -30.157068 -29.214660  153.1250  154.3750   6.811749e+01   \n",
       "\n",
       "                               model  \n",
       "time                                  \n",
       "1889-01-01 12:00:00  MPI-ESM-1-2-HAM  \n",
       "1889-01-02 12:00:00  MPI-ESM-1-2-HAM  \n",
       "1889-01-03 12:00:00  MPI-ESM-1-2-HAM  \n",
       "1889-01-04 12:00:00  MPI-ESM-1-2-HAM  \n",
       "1889-01-05 12:00:00  MPI-ESM-1-2-HAM  \n",
       "...                              ...  \n",
       "2014-12-27 12:00:00      SAM0-UNICON  \n",
       "2014-12-28 12:00:00      SAM0-UNICON  \n",
       "2014-12-29 12:00:00      SAM0-UNICON  \n",
       "2014-12-30 12:00:00      SAM0-UNICON  \n",
       "2014-12-31 12:00:00      SAM0-UNICON  \n",
       "\n",
       "[187403529 rows x 6 columns]"
      ]
     },
     "execution_count": 11,
     "metadata": {},
     "output_type": "execute_result"
    }
   ],
   "source": [
    "df"
   ]
  },
  {
   "cell_type": "code",
   "execution_count": 12,
   "id": "6bb6570d-cb73-42bf-87b4-09f9d8bcad47",
   "metadata": {},
   "outputs": [
    {
     "name": "stdout",
     "output_type": "stream",
     "text": [
      "<class 'pandas.core.frame.DataFrame'>\n",
      "Index: 187403529 entries, 1889-01-01 12:00:00 to 2014-12-31 12:00:00\n",
      "Data columns (total 6 columns):\n",
      " #   Column         Dtype  \n",
      "---  ------         -----  \n",
      " 0   lat_min        float64\n",
      " 1   lat_max        float64\n",
      " 2   lon_min        float64\n",
      " 3   lon_max        float64\n",
      " 4   rain (mm/day)  float64\n",
      " 5   model          object \n",
      "dtypes: float64(5), object(1)\n",
      "memory usage: 9.8+ GB\n"
     ]
    }
   ],
   "source": [
    "df.info()"
   ]
  },
  {
   "cell_type": "code",
   "execution_count": 13,
   "id": "95b1dd44-00aa-438c-9656-2628a9328480",
   "metadata": {},
   "outputs": [
    {
     "name": "stdout",
     "output_type": "stream",
     "text": [
      "CPU times: user 18.6 s, sys: 16.5 s, total: 35 s\n",
      "Wall time: 37.5 s\n"
     ]
    },
    {
     "data": {
      "text/html": [
       "<div>\n",
       "<style scoped>\n",
       "    .dataframe tbody tr th:only-of-type {\n",
       "        vertical-align: middle;\n",
       "    }\n",
       "\n",
       "    .dataframe tbody tr th {\n",
       "        vertical-align: top;\n",
       "    }\n",
       "\n",
       "    .dataframe thead th {\n",
       "        text-align: right;\n",
       "    }\n",
       "</style>\n",
       "<table border=\"1\" class=\"dataframe\">\n",
       "  <thead>\n",
       "    <tr style=\"text-align: right;\">\n",
       "      <th></th>\n",
       "      <th>lat_min</th>\n",
       "      <th>lat_max</th>\n",
       "      <th>lon_min</th>\n",
       "      <th>lon_max</th>\n",
       "      <th>rain (mm/day)</th>\n",
       "    </tr>\n",
       "  </thead>\n",
       "  <tbody>\n",
       "    <tr>\n",
       "      <th>count</th>\n",
       "      <td>1.777456e+08</td>\n",
       "      <td>1.874035e+08</td>\n",
       "      <td>1.777456e+08</td>\n",
       "      <td>1.874035e+08</td>\n",
       "      <td>1.777456e+08</td>\n",
       "    </tr>\n",
       "    <tr>\n",
       "      <th>mean</th>\n",
       "      <td>-3.310482e+01</td>\n",
       "      <td>-3.197757e+01</td>\n",
       "      <td>1.469059e+02</td>\n",
       "      <td>1.482150e+02</td>\n",
       "      <td>1.901170e+00</td>\n",
       "    </tr>\n",
       "    <tr>\n",
       "      <th>std</th>\n",
       "      <td>1.963549e+00</td>\n",
       "      <td>1.992067e+00</td>\n",
       "      <td>3.793784e+00</td>\n",
       "      <td>3.809994e+00</td>\n",
       "      <td>5.585735e+00</td>\n",
       "    </tr>\n",
       "    <tr>\n",
       "      <th>min</th>\n",
       "      <td>-3.646739e+01</td>\n",
       "      <td>-3.600000e+01</td>\n",
       "      <td>1.406250e+02</td>\n",
       "      <td>1.412500e+02</td>\n",
       "      <td>-3.807373e-12</td>\n",
       "    </tr>\n",
       "    <tr>\n",
       "      <th>25%</th>\n",
       "      <td>-3.486911e+01</td>\n",
       "      <td>-3.366221e+01</td>\n",
       "      <td>1.434375e+02</td>\n",
       "      <td>1.450000e+02</td>\n",
       "      <td>3.838408e-06</td>\n",
       "    </tr>\n",
       "    <tr>\n",
       "      <th>50%</th>\n",
       "      <td>-3.300000e+01</td>\n",
       "      <td>-3.204188e+01</td>\n",
       "      <td>1.468750e+02</td>\n",
       "      <td>1.481250e+02</td>\n",
       "      <td>6.154947e-02</td>\n",
       "    </tr>\n",
       "    <tr>\n",
       "      <th>75%</th>\n",
       "      <td>-3.140170e+01</td>\n",
       "      <td>-3.015707e+01</td>\n",
       "      <td>1.501875e+02</td>\n",
       "      <td>1.513125e+02</td>\n",
       "      <td>1.020918e+00</td>\n",
       "    </tr>\n",
       "    <tr>\n",
       "      <th>max</th>\n",
       "      <td>-2.990000e+01</td>\n",
       "      <td>-2.790606e+01</td>\n",
       "      <td>1.537500e+02</td>\n",
       "      <td>1.556250e+02</td>\n",
       "      <td>4.329395e+02</td>\n",
       "    </tr>\n",
       "  </tbody>\n",
       "</table>\n",
       "</div>"
      ],
      "text/plain": [
       "            lat_min       lat_max       lon_min       lon_max  rain (mm/day)\n",
       "count  1.777456e+08  1.874035e+08  1.777456e+08  1.874035e+08   1.777456e+08\n",
       "mean  -3.310482e+01 -3.197757e+01  1.469059e+02  1.482150e+02   1.901170e+00\n",
       "std    1.963549e+00  1.992067e+00  3.793784e+00  3.809994e+00   5.585735e+00\n",
       "min   -3.646739e+01 -3.600000e+01  1.406250e+02  1.412500e+02  -3.807373e-12\n",
       "25%   -3.486911e+01 -3.366221e+01  1.434375e+02  1.450000e+02   3.838408e-06\n",
       "50%   -3.300000e+01 -3.204188e+01  1.468750e+02  1.481250e+02   6.154947e-02\n",
       "75%   -3.140170e+01 -3.015707e+01  1.501875e+02  1.513125e+02   1.020918e+00\n",
       "max   -2.990000e+01 -2.790606e+01  1.537500e+02  1.556250e+02   4.329395e+02"
      ]
     },
     "execution_count": 13,
     "metadata": {},
     "output_type": "execute_result"
    }
   ],
   "source": [
    "%%time\n",
    "df.describe()"
   ]
  },
  {
   "cell_type": "markdown",
   "id": "8ada9759-f387-4421-b3d0-80c0ea5f4938",
   "metadata": {},
   "source": [
    "> The entire dataset usage more than 6.5GB worth of memory! Let's try to explore methods to reduce the memory usage."
   ]
  },
  {
   "cell_type": "markdown",
   "id": "74289e47-ca64-4168-9330-4e5aa39a5919",
   "metadata": {},
   "source": [
    "## Investigating methods to reduce memory usage"
   ]
  },
  {
   "cell_type": "markdown",
   "id": "5457599c-df66-4e09-b93b-ae9eed109d9c",
   "metadata": {},
   "source": [
    "### Method 1: Changing the data types of the columns"
   ]
  },
  {
   "cell_type": "code",
   "execution_count": 14,
   "id": "8b8bf7e6-7206-4d25-a6dc-d60c617d6dc1",
   "metadata": {},
   "outputs": [
    {
     "name": "stdout",
     "output_type": "stream",
     "text": [
      "Memory usage with float64: 8995.37 MB\n",
      "Memory usage with float32: 5247.30 MB\n"
     ]
    }
   ],
   "source": [
    "print(f\"Memory usage with float64: {df[['lat_min','lat_max','lon_min','lon_max','rain (mm/day)']].memory_usage().sum() / 1e6:.2f} MB\")\n",
    "print(f\"Memory usage with float32: {df[['lat_min','lat_max','lon_min','lon_max','rain (mm/day)']].astype('float32', errors='ignore').memory_usage().sum() / 1e6:.2f} MB\")"
   ]
  },
  {
   "cell_type": "code",
   "execution_count": 15,
   "id": "6c863aad-c489-4587-95a6-524f64d75ac3",
   "metadata": {},
   "outputs": [
    {
     "name": "stdout",
     "output_type": "stream",
     "text": [
      "combined_data       124935686\n",
      "MPI-ESM1-2-HR         5154240\n",
      "CMCC-ESM2             3541230\n",
      "NorESM2-MM            3541230\n",
      "TaiESM1               3541230\n",
      "CMCC-CM2-SR5          3541230\n",
      "CMCC-CM2-HR4          3541230\n",
      "SAM0-UNICON           3541153\n",
      "GFDL-CM4              3219300\n",
      "FGOALS-f3-L           3219300\n",
      "GFDL-ESM4             3219300\n",
      "MRI-ESM2-0            3037320\n",
      "EC-Earth3-Veg-LR      3037320\n",
      "BCC-CSM2-MR           3035340\n",
      "MIROC6                2070900\n",
      "ACCESS-CM2            1932840\n",
      "ACCESS-ESM1-5         1610700\n",
      "INM-CM5-0             1609650\n",
      "INM-CM4-8             1609650\n",
      "KIOST-ESM             1287720\n",
      "FGOALS-g3             1287720\n",
      "AWI-ESM-1-1-LR         966420\n",
      "MPI-ESM1-2-LR          966420\n",
      "NESM3                  966420\n",
      "MPI-ESM-1-2-HAM        966420\n",
      "NorESM2-LM             919800\n",
      "BCC-ESM1               551880\n",
      "CanESM5                551880\n",
      "Name: model, dtype: int64\n",
      "CPU times: user 2min 24s, sys: 18.5 s, total: 2min 43s\n",
      "Wall time: 2min 56s\n"
     ]
    }
   ],
   "source": [
    "%%time\n",
    "dtypes = {\"lat_min\": \"float32\",\n",
    "          \"lat_max\": \"float32\",\n",
    "          \"lon_min\": \"float32\",\n",
    "          \"lon_max\": \"float32\",\n",
    "          \"rain (mm/day)\": \"float32\"}\n",
    "\n",
    "df_red_dtypes = pd.read_csv(\"figsharerainfall/combined_data.csv\", index_col=0, dtype=dtypes)\n",
    "print(df_red_dtypes[\"model\"].value_counts())"
   ]
  },
  {
   "cell_type": "markdown",
   "id": "21967e71-54b2-4071-a514-00af604caa40",
   "metadata": {},
   "source": [
    "#### Run times:"
   ]
  },
  {
   "cell_type": "markdown",
   "id": "2bf4d5ab-0c69-4d6a-ab30-5a388b9c43af",
   "metadata": {},
   "source": [
    "| Team Member | Operating System | RAM | Processor | Is SSD | CPU times | Wall time |\n",
    "| --- | --- | --- | --- | --- | --- | --- | \n",
    "| Daniel   | ---   | --- | --- | --- | --- | --- | \n",
    "| Pavel    | ---   | --- | --- | --- | --- | --- | \n",
    "| Rong     | ---   | --- | --- | --- | --- | --- | \n",
    "| Sukhleen | MacOS | 16GB | M1 | Yes | 2min 43s | 2min 56s | "
   ]
  },
  {
   "cell_type": "code",
   "execution_count": 16,
   "id": "ff094313-b7ef-451b-8670-2ebb4ef2c16a",
   "metadata": {},
   "outputs": [
    {
     "data": {
      "text/html": [
       "<div>\n",
       "<style scoped>\n",
       "    .dataframe tbody tr th:only-of-type {\n",
       "        vertical-align: middle;\n",
       "    }\n",
       "\n",
       "    .dataframe tbody tr th {\n",
       "        vertical-align: top;\n",
       "    }\n",
       "\n",
       "    .dataframe thead th {\n",
       "        text-align: right;\n",
       "    }\n",
       "</style>\n",
       "<table border=\"1\" class=\"dataframe\">\n",
       "  <thead>\n",
       "    <tr style=\"text-align: right;\">\n",
       "      <th></th>\n",
       "      <th>lat_min</th>\n",
       "      <th>lat_max</th>\n",
       "      <th>lon_min</th>\n",
       "      <th>lon_max</th>\n",
       "      <th>rain (mm/day)</th>\n",
       "      <th>model</th>\n",
       "    </tr>\n",
       "    <tr>\n",
       "      <th>time</th>\n",
       "      <th></th>\n",
       "      <th></th>\n",
       "      <th></th>\n",
       "      <th></th>\n",
       "      <th></th>\n",
       "      <th></th>\n",
       "    </tr>\n",
       "  </thead>\n",
       "  <tbody>\n",
       "    <tr>\n",
       "      <th>1889-01-01 12:00:00</th>\n",
       "      <td>-35.439865</td>\n",
       "      <td>-33.574619</td>\n",
       "      <td>141.5625</td>\n",
       "      <td>143.4375</td>\n",
       "      <td>4.244226e-13</td>\n",
       "      <td>MPI-ESM-1-2-HAM</td>\n",
       "    </tr>\n",
       "    <tr>\n",
       "      <th>1889-01-02 12:00:00</th>\n",
       "      <td>-35.439865</td>\n",
       "      <td>-33.574619</td>\n",
       "      <td>141.5625</td>\n",
       "      <td>143.4375</td>\n",
       "      <td>4.217326e-13</td>\n",
       "      <td>MPI-ESM-1-2-HAM</td>\n",
       "    </tr>\n",
       "    <tr>\n",
       "      <th>1889-01-03 12:00:00</th>\n",
       "      <td>-35.439865</td>\n",
       "      <td>-33.574619</td>\n",
       "      <td>141.5625</td>\n",
       "      <td>143.4375</td>\n",
       "      <td>4.498125e-13</td>\n",
       "      <td>MPI-ESM-1-2-HAM</td>\n",
       "    </tr>\n",
       "    <tr>\n",
       "      <th>1889-01-04 12:00:00</th>\n",
       "      <td>-35.439865</td>\n",
       "      <td>-33.574619</td>\n",
       "      <td>141.5625</td>\n",
       "      <td>143.4375</td>\n",
       "      <td>4.251282e-13</td>\n",
       "      <td>MPI-ESM-1-2-HAM</td>\n",
       "    </tr>\n",
       "    <tr>\n",
       "      <th>1889-01-05 12:00:00</th>\n",
       "      <td>-35.439865</td>\n",
       "      <td>-33.574619</td>\n",
       "      <td>141.5625</td>\n",
       "      <td>143.4375</td>\n",
       "      <td>4.270161e-13</td>\n",
       "      <td>MPI-ESM-1-2-HAM</td>\n",
       "    </tr>\n",
       "    <tr>\n",
       "      <th>...</th>\n",
       "      <td>...</td>\n",
       "      <td>...</td>\n",
       "      <td>...</td>\n",
       "      <td>...</td>\n",
       "      <td>...</td>\n",
       "      <td>...</td>\n",
       "    </tr>\n",
       "    <tr>\n",
       "      <th>2014-12-27 12:00:00</th>\n",
       "      <td>-30.157068</td>\n",
       "      <td>-29.214659</td>\n",
       "      <td>153.1250</td>\n",
       "      <td>154.3750</td>\n",
       "      <td>6.689683e+00</td>\n",
       "      <td>SAM0-UNICON</td>\n",
       "    </tr>\n",
       "    <tr>\n",
       "      <th>2014-12-28 12:00:00</th>\n",
       "      <td>-30.157068</td>\n",
       "      <td>-29.214659</td>\n",
       "      <td>153.1250</td>\n",
       "      <td>154.3750</td>\n",
       "      <td>7.862556e+00</td>\n",
       "      <td>SAM0-UNICON</td>\n",
       "    </tr>\n",
       "    <tr>\n",
       "      <th>2014-12-29 12:00:00</th>\n",
       "      <td>-30.157068</td>\n",
       "      <td>-29.214659</td>\n",
       "      <td>153.1250</td>\n",
       "      <td>154.3750</td>\n",
       "      <td>1.000503e+01</td>\n",
       "      <td>SAM0-UNICON</td>\n",
       "    </tr>\n",
       "    <tr>\n",
       "      <th>2014-12-30 12:00:00</th>\n",
       "      <td>-30.157068</td>\n",
       "      <td>-29.214659</td>\n",
       "      <td>153.1250</td>\n",
       "      <td>154.3750</td>\n",
       "      <td>8.541592e+00</td>\n",
       "      <td>SAM0-UNICON</td>\n",
       "    </tr>\n",
       "    <tr>\n",
       "      <th>2014-12-31 12:00:00</th>\n",
       "      <td>-30.157068</td>\n",
       "      <td>-29.214659</td>\n",
       "      <td>153.1250</td>\n",
       "      <td>154.3750</td>\n",
       "      <td>6.811749e+01</td>\n",
       "      <td>SAM0-UNICON</td>\n",
       "    </tr>\n",
       "  </tbody>\n",
       "</table>\n",
       "<p>187403529 rows × 6 columns</p>\n",
       "</div>"
      ],
      "text/plain": [
       "                       lat_min    lat_max   lon_min   lon_max  rain (mm/day)  \\\n",
       "time                                                                           \n",
       "1889-01-01 12:00:00 -35.439865 -33.574619  141.5625  143.4375   4.244226e-13   \n",
       "1889-01-02 12:00:00 -35.439865 -33.574619  141.5625  143.4375   4.217326e-13   \n",
       "1889-01-03 12:00:00 -35.439865 -33.574619  141.5625  143.4375   4.498125e-13   \n",
       "1889-01-04 12:00:00 -35.439865 -33.574619  141.5625  143.4375   4.251282e-13   \n",
       "1889-01-05 12:00:00 -35.439865 -33.574619  141.5625  143.4375   4.270161e-13   \n",
       "...                        ...        ...       ...       ...            ...   \n",
       "2014-12-27 12:00:00 -30.157068 -29.214659  153.1250  154.3750   6.689683e+00   \n",
       "2014-12-28 12:00:00 -30.157068 -29.214659  153.1250  154.3750   7.862556e+00   \n",
       "2014-12-29 12:00:00 -30.157068 -29.214659  153.1250  154.3750   1.000503e+01   \n",
       "2014-12-30 12:00:00 -30.157068 -29.214659  153.1250  154.3750   8.541592e+00   \n",
       "2014-12-31 12:00:00 -30.157068 -29.214659  153.1250  154.3750   6.811749e+01   \n",
       "\n",
       "                               model  \n",
       "time                                  \n",
       "1889-01-01 12:00:00  MPI-ESM-1-2-HAM  \n",
       "1889-01-02 12:00:00  MPI-ESM-1-2-HAM  \n",
       "1889-01-03 12:00:00  MPI-ESM-1-2-HAM  \n",
       "1889-01-04 12:00:00  MPI-ESM-1-2-HAM  \n",
       "1889-01-05 12:00:00  MPI-ESM-1-2-HAM  \n",
       "...                              ...  \n",
       "2014-12-27 12:00:00      SAM0-UNICON  \n",
       "2014-12-28 12:00:00      SAM0-UNICON  \n",
       "2014-12-29 12:00:00      SAM0-UNICON  \n",
       "2014-12-30 12:00:00      SAM0-UNICON  \n",
       "2014-12-31 12:00:00      SAM0-UNICON  \n",
       "\n",
       "[187403529 rows x 6 columns]"
      ]
     },
     "execution_count": 16,
     "metadata": {},
     "output_type": "execute_result"
    }
   ],
   "source": [
    "df_red_dtypes"
   ]
  },
  {
   "cell_type": "code",
   "execution_count": 17,
   "id": "ca684fe2-ceb2-4d88-897a-d286bcf5b401",
   "metadata": {},
   "outputs": [
    {
     "name": "stdout",
     "output_type": "stream",
     "text": [
      "<class 'pandas.core.frame.DataFrame'>\n",
      "Index: 187403529 entries, 1889-01-01 12:00:00 to 2014-12-31 12:00:00\n",
      "Data columns (total 6 columns):\n",
      " #   Column         Dtype  \n",
      "---  ------         -----  \n",
      " 0   lat_min        float32\n",
      " 1   lat_max        float32\n",
      " 2   lon_min        float32\n",
      " 3   lon_max        float32\n",
      " 4   rain (mm/day)  float32\n",
      " 5   model          object \n",
      "dtypes: float32(5), object(1)\n",
      "memory usage: 6.3+ GB\n"
     ]
    }
   ],
   "source": [
    "df_red_dtypes.info()"
   ]
  },
  {
   "cell_type": "markdown",
   "id": "a861aa46-669b-4d55-a237-a648cc6bb76a",
   "metadata": {},
   "source": [
    "> By changing the data type of numeric columns from `float64` to `float32`, we have reduced the memory consumption to around 4.2GB."
   ]
  },
  {
   "cell_type": "code",
   "execution_count": 18,
   "id": "af5d3642-1467-46bd-bf2b-c072c0b73255",
   "metadata": {},
   "outputs": [
    {
     "name": "stdout",
     "output_type": "stream",
     "text": [
      "CPU times: user 15.1 s, sys: 8.47 s, total: 23.6 s\n",
      "Wall time: 23.8 s\n"
     ]
    },
    {
     "data": {
      "text/html": [
       "<div>\n",
       "<style scoped>\n",
       "    .dataframe tbody tr th:only-of-type {\n",
       "        vertical-align: middle;\n",
       "    }\n",
       "\n",
       "    .dataframe tbody tr th {\n",
       "        vertical-align: top;\n",
       "    }\n",
       "\n",
       "    .dataframe thead th {\n",
       "        text-align: right;\n",
       "    }\n",
       "</style>\n",
       "<table border=\"1\" class=\"dataframe\">\n",
       "  <thead>\n",
       "    <tr style=\"text-align: right;\">\n",
       "      <th></th>\n",
       "      <th>lat_min</th>\n",
       "      <th>lat_max</th>\n",
       "      <th>lon_min</th>\n",
       "      <th>lon_max</th>\n",
       "      <th>rain (mm/day)</th>\n",
       "    </tr>\n",
       "  </thead>\n",
       "  <tbody>\n",
       "    <tr>\n",
       "      <th>count</th>\n",
       "      <td>1.777456e+08</td>\n",
       "      <td>1.874035e+08</td>\n",
       "      <td>1.777456e+08</td>\n",
       "      <td>1.874035e+08</td>\n",
       "      <td>1.777456e+08</td>\n",
       "    </tr>\n",
       "    <tr>\n",
       "      <th>mean</th>\n",
       "      <td>-3.310709e+01</td>\n",
       "      <td>-3.197901e+01</td>\n",
       "      <td>1.469046e+02</td>\n",
       "      <td>1.482148e+02</td>\n",
       "      <td>1.901166e+00</td>\n",
       "    </tr>\n",
       "    <tr>\n",
       "      <th>std</th>\n",
       "      <td>1.963549e+00</td>\n",
       "      <td>1.992067e+00</td>\n",
       "      <td>3.793784e+00</td>\n",
       "      <td>3.809994e+00</td>\n",
       "      <td>5.585735e+00</td>\n",
       "    </tr>\n",
       "    <tr>\n",
       "      <th>min</th>\n",
       "      <td>-3.646739e+01</td>\n",
       "      <td>-3.600000e+01</td>\n",
       "      <td>1.406250e+02</td>\n",
       "      <td>1.412500e+02</td>\n",
       "      <td>-3.807373e-12</td>\n",
       "    </tr>\n",
       "    <tr>\n",
       "      <th>25%</th>\n",
       "      <td>-3.486911e+01</td>\n",
       "      <td>-3.366221e+01</td>\n",
       "      <td>1.434375e+02</td>\n",
       "      <td>1.450000e+02</td>\n",
       "      <td>3.838408e-06</td>\n",
       "    </tr>\n",
       "    <tr>\n",
       "      <th>50%</th>\n",
       "      <td>-3.300000e+01</td>\n",
       "      <td>-3.204189e+01</td>\n",
       "      <td>1.468750e+02</td>\n",
       "      <td>1.481250e+02</td>\n",
       "      <td>6.154947e-02</td>\n",
       "    </tr>\n",
       "    <tr>\n",
       "      <th>75%</th>\n",
       "      <td>-3.140170e+01</td>\n",
       "      <td>-3.015707e+01</td>\n",
       "      <td>1.501875e+02</td>\n",
       "      <td>1.513125e+02</td>\n",
       "      <td>1.020918e+00</td>\n",
       "    </tr>\n",
       "    <tr>\n",
       "      <th>max</th>\n",
       "      <td>-2.990000e+01</td>\n",
       "      <td>-2.790606e+01</td>\n",
       "      <td>1.537500e+02</td>\n",
       "      <td>1.556250e+02</td>\n",
       "      <td>4.329395e+02</td>\n",
       "    </tr>\n",
       "  </tbody>\n",
       "</table>\n",
       "</div>"
      ],
      "text/plain": [
       "            lat_min       lat_max       lon_min       lon_max  rain (mm/day)\n",
       "count  1.777456e+08  1.874035e+08  1.777456e+08  1.874035e+08   1.777456e+08\n",
       "mean  -3.310709e+01 -3.197901e+01  1.469046e+02  1.482148e+02   1.901166e+00\n",
       "std    1.963549e+00  1.992067e+00  3.793784e+00  3.809994e+00   5.585735e+00\n",
       "min   -3.646739e+01 -3.600000e+01  1.406250e+02  1.412500e+02  -3.807373e-12\n",
       "25%   -3.486911e+01 -3.366221e+01  1.434375e+02  1.450000e+02   3.838408e-06\n",
       "50%   -3.300000e+01 -3.204189e+01  1.468750e+02  1.481250e+02   6.154947e-02\n",
       "75%   -3.140170e+01 -3.015707e+01  1.501875e+02  1.513125e+02   1.020918e+00\n",
       "max   -2.990000e+01 -2.790606e+01  1.537500e+02  1.556250e+02   4.329395e+02"
      ]
     },
     "execution_count": 18,
     "metadata": {},
     "output_type": "execute_result"
    }
   ],
   "source": [
    "%%time\n",
    "df_red_dtypes.describe()"
   ]
  },
  {
   "cell_type": "markdown",
   "id": "22e72de8-90c6-4bbe-8a28-7e025033c376",
   "metadata": {},
   "source": [
    "### Method 2: Loading only selective columns - `time`, `rain (mm/day)` and `model`"
   ]
  },
  {
   "cell_type": "code",
   "execution_count": 19,
   "id": "c2a232a9-2726-4973-a0f4-1717f0501a43",
   "metadata": {},
   "outputs": [
    {
     "name": "stdout",
     "output_type": "stream",
     "text": [
      "combined_data       124935686\n",
      "MPI-ESM1-2-HR         5154240\n",
      "CMCC-ESM2             3541230\n",
      "NorESM2-MM            3541230\n",
      "TaiESM1               3541230\n",
      "CMCC-CM2-SR5          3541230\n",
      "CMCC-CM2-HR4          3541230\n",
      "SAM0-UNICON           3541153\n",
      "GFDL-CM4              3219300\n",
      "FGOALS-f3-L           3219300\n",
      "GFDL-ESM4             3219300\n",
      "MRI-ESM2-0            3037320\n",
      "EC-Earth3-Veg-LR      3037320\n",
      "BCC-CSM2-MR           3035340\n",
      "MIROC6                2070900\n",
      "ACCESS-CM2            1932840\n",
      "ACCESS-ESM1-5         1610700\n",
      "INM-CM5-0             1609650\n",
      "INM-CM4-8             1609650\n",
      "KIOST-ESM             1287720\n",
      "FGOALS-g3             1287720\n",
      "AWI-ESM-1-1-LR         966420\n",
      "MPI-ESM1-2-LR          966420\n",
      "NESM3                  966420\n",
      "MPI-ESM-1-2-HAM        966420\n",
      "NorESM2-LM             919800\n",
      "BCC-ESM1               551880\n",
      "CanESM5                551880\n",
      "Name: model, dtype: int64\n",
      "CPU times: user 2min 2s, sys: 16 s, total: 2min 18s\n",
      "Wall time: 2min 28s\n"
     ]
    }
   ],
   "source": [
    "%%time\n",
    "use_cols = ['time','rain (mm/day)', 'model']\n",
    "df_subset = pd.read_csv(\"figsharerainfall/combined_data.csv\",usecols=use_cols, index_col=0)\n",
    "print(df_subset['model'].value_counts())"
   ]
  },
  {
   "cell_type": "markdown",
   "id": "86019480-d12d-42b7-b061-3d8eab48f1fa",
   "metadata": {},
   "source": [
    "#### Run times:"
   ]
  },
  {
   "cell_type": "markdown",
   "id": "ded841ba-846b-4e95-957d-02fd40dae945",
   "metadata": {},
   "source": [
    "| Team Member | Operating System | RAM | Processor | Is SSD | CPU times | Wall time |\n",
    "| --- | --- | --- | --- | --- | --- | --- | \n",
    "| Daniel   | ---   | --- | --- | --- | --- | --- | \n",
    "| Pavel    | ---   | --- | --- | --- | --- | --- | \n",
    "| Rong     | ---   | --- | --- | --- | --- | --- | \n",
    "| Sukhleen | MacOS | 16GB | M1 | Yes | 2min 18s | 2min 28s | "
   ]
  },
  {
   "cell_type": "code",
   "execution_count": 20,
   "id": "12f45fbf-c93b-4d1c-921e-5bb39806c16f",
   "metadata": {},
   "outputs": [
    {
     "data": {
      "text/html": [
       "<div>\n",
       "<style scoped>\n",
       "    .dataframe tbody tr th:only-of-type {\n",
       "        vertical-align: middle;\n",
       "    }\n",
       "\n",
       "    .dataframe tbody tr th {\n",
       "        vertical-align: top;\n",
       "    }\n",
       "\n",
       "    .dataframe thead th {\n",
       "        text-align: right;\n",
       "    }\n",
       "</style>\n",
       "<table border=\"1\" class=\"dataframe\">\n",
       "  <thead>\n",
       "    <tr style=\"text-align: right;\">\n",
       "      <th></th>\n",
       "      <th>rain (mm/day)</th>\n",
       "      <th>model</th>\n",
       "    </tr>\n",
       "    <tr>\n",
       "      <th>time</th>\n",
       "      <th></th>\n",
       "      <th></th>\n",
       "    </tr>\n",
       "  </thead>\n",
       "  <tbody>\n",
       "    <tr>\n",
       "      <th>1889-01-01 12:00:00</th>\n",
       "      <td>4.244226e-13</td>\n",
       "      <td>MPI-ESM-1-2-HAM</td>\n",
       "    </tr>\n",
       "    <tr>\n",
       "      <th>1889-01-02 12:00:00</th>\n",
       "      <td>4.217326e-13</td>\n",
       "      <td>MPI-ESM-1-2-HAM</td>\n",
       "    </tr>\n",
       "    <tr>\n",
       "      <th>1889-01-03 12:00:00</th>\n",
       "      <td>4.498125e-13</td>\n",
       "      <td>MPI-ESM-1-2-HAM</td>\n",
       "    </tr>\n",
       "    <tr>\n",
       "      <th>1889-01-04 12:00:00</th>\n",
       "      <td>4.251282e-13</td>\n",
       "      <td>MPI-ESM-1-2-HAM</td>\n",
       "    </tr>\n",
       "    <tr>\n",
       "      <th>1889-01-05 12:00:00</th>\n",
       "      <td>4.270161e-13</td>\n",
       "      <td>MPI-ESM-1-2-HAM</td>\n",
       "    </tr>\n",
       "    <tr>\n",
       "      <th>...</th>\n",
       "      <td>...</td>\n",
       "      <td>...</td>\n",
       "    </tr>\n",
       "    <tr>\n",
       "      <th>2014-12-27 12:00:00</th>\n",
       "      <td>6.689683e+00</td>\n",
       "      <td>SAM0-UNICON</td>\n",
       "    </tr>\n",
       "    <tr>\n",
       "      <th>2014-12-28 12:00:00</th>\n",
       "      <td>7.862555e+00</td>\n",
       "      <td>SAM0-UNICON</td>\n",
       "    </tr>\n",
       "    <tr>\n",
       "      <th>2014-12-29 12:00:00</th>\n",
       "      <td>1.000503e+01</td>\n",
       "      <td>SAM0-UNICON</td>\n",
       "    </tr>\n",
       "    <tr>\n",
       "      <th>2014-12-30 12:00:00</th>\n",
       "      <td>8.541592e+00</td>\n",
       "      <td>SAM0-UNICON</td>\n",
       "    </tr>\n",
       "    <tr>\n",
       "      <th>2014-12-31 12:00:00</th>\n",
       "      <td>6.811749e+01</td>\n",
       "      <td>SAM0-UNICON</td>\n",
       "    </tr>\n",
       "  </tbody>\n",
       "</table>\n",
       "<p>187403529 rows × 2 columns</p>\n",
       "</div>"
      ],
      "text/plain": [
       "                     rain (mm/day)            model\n",
       "time                                               \n",
       "1889-01-01 12:00:00   4.244226e-13  MPI-ESM-1-2-HAM\n",
       "1889-01-02 12:00:00   4.217326e-13  MPI-ESM-1-2-HAM\n",
       "1889-01-03 12:00:00   4.498125e-13  MPI-ESM-1-2-HAM\n",
       "1889-01-04 12:00:00   4.251282e-13  MPI-ESM-1-2-HAM\n",
       "1889-01-05 12:00:00   4.270161e-13  MPI-ESM-1-2-HAM\n",
       "...                            ...              ...\n",
       "2014-12-27 12:00:00   6.689683e+00      SAM0-UNICON\n",
       "2014-12-28 12:00:00   7.862555e+00      SAM0-UNICON\n",
       "2014-12-29 12:00:00   1.000503e+01      SAM0-UNICON\n",
       "2014-12-30 12:00:00   8.541592e+00      SAM0-UNICON\n",
       "2014-12-31 12:00:00   6.811749e+01      SAM0-UNICON\n",
       "\n",
       "[187403529 rows x 2 columns]"
      ]
     },
     "execution_count": 20,
     "metadata": {},
     "output_type": "execute_result"
    }
   ],
   "source": [
    "df_subset"
   ]
  },
  {
   "cell_type": "code",
   "execution_count": 21,
   "id": "b867c928-caaf-44d7-a20f-190b9a4aa2c8",
   "metadata": {},
   "outputs": [
    {
     "name": "stdout",
     "output_type": "stream",
     "text": [
      "<class 'pandas.core.frame.DataFrame'>\n",
      "Index: 187403529 entries, 1889-01-01 12:00:00 to 2014-12-31 12:00:00\n",
      "Data columns (total 2 columns):\n",
      " #   Column         Dtype  \n",
      "---  ------         -----  \n",
      " 0   rain (mm/day)  float64\n",
      " 1   model          object \n",
      "dtypes: float64(1), object(1)\n",
      "memory usage: 4.2+ GB\n"
     ]
    }
   ],
   "source": [
    "df_subset.info()"
   ]
  },
  {
   "cell_type": "markdown",
   "id": "2b82181b-76d3-49b6-921e-2154d98db45d",
   "metadata": {},
   "source": [
    "> The memory usage of the selected columns `time` and `rain (mm/day)` is just 1.9GB. By selecting only the columns that we wanted to work with, we have reduced the memory usage significantly."
   ]
  },
  {
   "cell_type": "code",
   "execution_count": 22,
   "id": "5b1101a2-a54b-485e-8e3c-13da45756304",
   "metadata": {},
   "outputs": [
    {
     "name": "stdout",
     "output_type": "stream",
     "text": [
      "CPU times: user 5.72 s, sys: 4.74 s, total: 10.5 s\n",
      "Wall time: 11.5 s\n"
     ]
    },
    {
     "data": {
      "text/html": [
       "<div>\n",
       "<style scoped>\n",
       "    .dataframe tbody tr th:only-of-type {\n",
       "        vertical-align: middle;\n",
       "    }\n",
       "\n",
       "    .dataframe tbody tr th {\n",
       "        vertical-align: top;\n",
       "    }\n",
       "\n",
       "    .dataframe thead th {\n",
       "        text-align: right;\n",
       "    }\n",
       "</style>\n",
       "<table border=\"1\" class=\"dataframe\">\n",
       "  <thead>\n",
       "    <tr style=\"text-align: right;\">\n",
       "      <th></th>\n",
       "      <th>rain (mm/day)</th>\n",
       "    </tr>\n",
       "  </thead>\n",
       "  <tbody>\n",
       "    <tr>\n",
       "      <th>count</th>\n",
       "      <td>1.777456e+08</td>\n",
       "    </tr>\n",
       "    <tr>\n",
       "      <th>mean</th>\n",
       "      <td>1.901170e+00</td>\n",
       "    </tr>\n",
       "    <tr>\n",
       "      <th>std</th>\n",
       "      <td>5.585735e+00</td>\n",
       "    </tr>\n",
       "    <tr>\n",
       "      <th>min</th>\n",
       "      <td>-3.807373e-12</td>\n",
       "    </tr>\n",
       "    <tr>\n",
       "      <th>25%</th>\n",
       "      <td>3.838408e-06</td>\n",
       "    </tr>\n",
       "    <tr>\n",
       "      <th>50%</th>\n",
       "      <td>6.154947e-02</td>\n",
       "    </tr>\n",
       "    <tr>\n",
       "      <th>75%</th>\n",
       "      <td>1.020918e+00</td>\n",
       "    </tr>\n",
       "    <tr>\n",
       "      <th>max</th>\n",
       "      <td>4.329395e+02</td>\n",
       "    </tr>\n",
       "  </tbody>\n",
       "</table>\n",
       "</div>"
      ],
      "text/plain": [
       "       rain (mm/day)\n",
       "count   1.777456e+08\n",
       "mean    1.901170e+00\n",
       "std     5.585735e+00\n",
       "min    -3.807373e-12\n",
       "25%     3.838408e-06\n",
       "50%     6.154947e-02\n",
       "75%     1.020918e+00\n",
       "max     4.329395e+02"
      ]
     },
     "execution_count": 22,
     "metadata": {},
     "output_type": "execute_result"
    }
   ],
   "source": [
    "%%time\n",
    "df_subset.describe()"
   ]
  },
  {
   "cell_type": "markdown",
   "id": "5462f73d-5484-4f01-a6c7-5a88c869d3ac",
   "metadata": {},
   "source": [
    "### Method 3: Loading data in chunks"
   ]
  },
  {
   "cell_type": "code",
   "execution_count": 23,
   "id": "adefb0f2-024c-4b79-8c9b-f32776858d21",
   "metadata": {},
   "outputs": [
    {
     "name": "stdout",
     "output_type": "stream",
     "text": [
      "ACCESS-CM2            1932840\n",
      "ACCESS-ESM1-5         1610700\n",
      "AWI-ESM-1-1-LR         966420\n",
      "BCC-CSM2-MR           3035340\n",
      "BCC-ESM1               551880\n",
      "CMCC-CM2-HR4          3541230\n",
      "CMCC-CM2-SR5          3541230\n",
      "CMCC-ESM2             3541230\n",
      "CanESM5                551880\n",
      "EC-Earth3-Veg-LR      3037320\n",
      "FGOALS-f3-L           3219300\n",
      "FGOALS-g3             1287720\n",
      "GFDL-CM4              3219300\n",
      "GFDL-ESM4             3219300\n",
      "INM-CM4-8             1609650\n",
      "INM-CM5-0             1609650\n",
      "KIOST-ESM             1287720\n",
      "MIROC6                2070900\n",
      "MPI-ESM-1-2-HAM        966420\n",
      "MPI-ESM1-2-HR         5154240\n",
      "MPI-ESM1-2-LR          966420\n",
      "MRI-ESM2-0            3037320\n",
      "NESM3                  966420\n",
      "NorESM2-LM             919800\n",
      "NorESM2-MM            3541230\n",
      "SAM0-UNICON           3541153\n",
      "TaiESM1               3541230\n",
      "combined_data       124935686\n",
      "dtype: int64\n",
      "CPU times: user 2min 14s, sys: 10.8 s, total: 2min 25s\n",
      "Wall time: 2min 27s\n"
     ]
    }
   ],
   "source": [
    "%%time\n",
    "counts = pd.Series(dtype=int)\n",
    "for chunk in pd.read_csv(\"figsharerainfall/combined_data.csv\", chunksize=10_000_000):\n",
    "    counts = counts.add(chunk['model'].value_counts(), fill_value=0)\n",
    "print(counts.astype(int))"
   ]
  },
  {
   "cell_type": "markdown",
   "id": "4bb68d62-abbc-47a2-8969-3f4673c3f5f0",
   "metadata": {},
   "source": [
    "> There is a noticeable reduction in the processing and run time when the data is loaded in chunks."
   ]
  },
  {
   "cell_type": "markdown",
   "id": "6be9e845-7793-4280-b5f7-9f311adb4f84",
   "metadata": {},
   "source": [
    "#### Run times:"
   ]
  },
  {
   "cell_type": "markdown",
   "id": "92bfb960-b79c-41ad-80a6-8929d1739766",
   "metadata": {},
   "source": [
    "| Team Member | Operating System | RAM | Processor | Is SSD | CPU times | Wall time |\n",
    "| --- | --- | --- | --- | --- | --- | --- | \n",
    "| Daniel   | ---   | --- | --- | --- | --- | --- | \n",
    "| Pavel    | ---   | --- | --- | --- | --- | --- | \n",
    "| Rong     | ---   | --- | --- | --- | --- | --- | \n",
    "| Sukhleen | MacOS | 16GB | M1 | Yes | 2min 25s | 2min 27s | "
   ]
  },
  {
   "cell_type": "markdown",
   "id": "0ce366fa-c4ac-4e87-bb5b-f6adc260d29a",
   "metadata": {},
   "source": [
    "### EDA on dataframe with reduced `dtype`"
   ]
  },
  {
   "cell_type": "code",
   "execution_count": 24,
   "id": "d3eb9e63-9f24-4f22-aec4-67a6974ed311",
   "metadata": {},
   "outputs": [
    {
     "name": "stdout",
     "output_type": "stream",
     "text": [
      "CPU times: user 13 s, sys: 8.2 s, total: 21.2 s\n",
      "Wall time: 14min 37s\n"
     ]
    },
    {
     "data": {
      "image/png": "[encoded data removed]",
      "text/plain": [
       "<Figure size 1440x1440 with 6 Axes>"
      ]
     },
     "metadata": {
      "needs_background": "light"
     },
     "output_type": "display_data"
    }
   ],
   "source": [
    "%%time\n",
    "df_red_dtypes.hist(figsize=(20, 20), bins=20)\n",
    "pass"
   ]
  }
 ],
 "metadata": {
  "kernelspec": {
   "display_name": "Python [conda env:525]",
   "language": "python",
   "name": "conda-env-525-py"
  },
  "language_info": {
   "codemirror_mode": {
    "name": "ipython",
    "version": 3
   },
   "file_extension": ".py",
   "mimetype": "text/x-python",
   "name": "python",
   "nbconvert_exporter": "python",
   "pygments_lexer": "ipython3",
   "version": "3.8.6"
  }
 },
 "nbformat": 4,
 "nbformat_minor": 5
}
